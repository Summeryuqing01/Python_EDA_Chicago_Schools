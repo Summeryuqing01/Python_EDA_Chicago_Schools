{
 "cells": [
  {
   "cell_type": "markdown",
   "id": "4f559845",
   "metadata": {},
   "source": [
    "# 1. Introduction\n",
    "\n",
    "My main goal is to gain insights to educational equality in Chicago. To achieve that, I would like to see the student demographic and performance by location.\n",
    "I am hoping to learn if the school's location and student body affect the schools' college enrollmen rate. My hypothesis is that the school's performance (measured by college enrollment rate) is affected by the schools's student body, but I am unsure if there's relationship between the schools's college enrollment rate and their address or if there's correlation between the location and the student body. By the amount of columns the dataset has, I assumed that it needed a lot of cleaning and filtering before analysis."
   ]
  },
  {
   "cell_type": "markdown",
   "id": "5df4b3f3",
   "metadata": {},
   "source": [
    "# 2. Data Explained\n",
    "\n",
    "The dataset I am using is from the government website Chicago Data Portal. The dataset contains school profile information for all schools in the Chicago Public School district for the school year 2023-2024. The dataset was last updated on September 2023, so it's fairly new. There are 99 columns and 652 rows in total.\n",
    "    \n",
    "There are a lot of issues with this dataset, mainly the amount of NA values and non-applicable values. For example, some of the variables have as little as only four non-null values. Even for the non-null values, some are not helpful. For example, the 'Overall_Rating' variable only containes the statement on why there is no rating for the school due to covid.'\n",
    "\n",
    "Since the rating is not available so I have decided to use College Enrollment Rate as the dependent variable for my data, which means that I only keep the high school data.\n",
    "    \n",
    "Data Source: https://data.cityofchicago.org/Education/Chicago-Public-Schools-School-Profile-Information-/cu4u-b4d9"
   ]
  },
  {
   "cell_type": "code",
   "execution_count": 12,
   "id": "3629b40d",
   "metadata": {
    "scrolled": false
   },
   "outputs": [
    {
     "name": "stdout",
     "output_type": "stream",
     "text": [
      "<class 'pandas.core.frame.DataFrame'>\n",
      "RangeIndex: 652 entries, 0 to 651\n",
      "Data columns (total 99 columns):\n",
      " #   Column                                   Non-Null Count  Dtype  \n",
      "---  ------                                   --------------  -----  \n",
      " 0   School_ID                                652 non-null    int64  \n",
      " 1   Legacy_Unit_ID                           652 non-null    int64  \n",
      " 2   Finance_ID                               652 non-null    int64  \n",
      " 3   Short_Name                               652 non-null    object \n",
      " 4   Long_Name                                652 non-null    object \n",
      " 5   Primary_Category                         652 non-null    object \n",
      " 6   Is_High_School                           652 non-null    bool   \n",
      " 7   Is_Middle_School                         652 non-null    bool   \n",
      " 8   Is_Elementary_School                     652 non-null    bool   \n",
      " 9   Is_Pre_School                            652 non-null    bool   \n",
      " 10  Summary                                  650 non-null    object \n",
      " 11  Administrator_Title                      652 non-null    object \n",
      " 12  Administrator                            648 non-null    object \n",
      " 13  Secondary_Contact_Title                  587 non-null    object \n",
      " 14  Secondary_Contact                        574 non-null    object \n",
      " 15  Address                                  652 non-null    object \n",
      " 16  City                                     651 non-null    object \n",
      " 17  State                                    651 non-null    object \n",
      " 18  Zip                                      652 non-null    int64  \n",
      " 19  Phone                                    651 non-null    float64\n",
      " 20  Fax                                      645 non-null    float64\n",
      " 21  CPS_School_Profile                       652 non-null    object \n",
      " 22  Website                                  651 non-null    object \n",
      " 23  Facebook                                 286 non-null    object \n",
      " 24  Twitter                                  286 non-null    object \n",
      " 25  Youtube                                  65 non-null     object \n",
      " 26  Pinterest                                4 non-null      object \n",
      " 27  Attendance_Boundaries                    651 non-null    object \n",
      " 28  Grades_Offered_All                       652 non-null    object \n",
      " 29  Grades_Offered                           652 non-null    object \n",
      " 30  Student_Count_Total                      652 non-null    int64  \n",
      " 31  Student_Count_Low_Income                 652 non-null    int64  \n",
      " 32  Student_Count_Special_Ed                 652 non-null    int64  \n",
      " 33  Student_Count_English_Learners           652 non-null    int64  \n",
      " 34  Student_Count_Black                      652 non-null    int64  \n",
      " 35  Student_Count_Hispanic                   652 non-null    int64  \n",
      " 36  Student_Count_White                      652 non-null    int64  \n",
      " 37  Student_Count_Asian                      652 non-null    int64  \n",
      " 38  Student_Count_Native_American            652 non-null    int64  \n",
      " 39  Student_Count_Other_Ethnicity            652 non-null    int64  \n",
      " 40  Student_Count_Asian_Pacific_Islander     652 non-null    int64  \n",
      " 41  Student_Count_Multi                      652 non-null    int64  \n",
      " 42  Student_Count_Hawaiian_Pacific_Islander  652 non-null    int64  \n",
      " 43  Student_Count_Ethnicity_Not_Available    652 non-null    int64  \n",
      " 44  Statistics_Description                   649 non-null    object \n",
      " 45  Demographic_Description                  652 non-null    object \n",
      " 46  Dress_Code                               651 non-null    object \n",
      " 47  PreK_School_Day                          374 non-null    object \n",
      " 48  Kindergarten_School_Day                  464 non-null    object \n",
      " 49  School_Hours                             647 non-null    object \n",
      " 50  Freshman_Start_End_Time                  97 non-null     object \n",
      " 51  After_School_Hours                       355 non-null    object \n",
      " 52  Earliest_Drop_Off_Time                   461 non-null    object \n",
      " 53  Classroom_Languages                      308 non-null    object \n",
      " 54  Bilingual_Services                       403 non-null    object \n",
      " 55  Refugee_Services                         159 non-null    object \n",
      " 56  Title_1_Eligible                         635 non-null    object \n",
      " 57  PreSchool_Inclusive                      133 non-null    object \n",
      " 58  Preschool_Instructional                  50 non-null     object \n",
      " 59  Significantly_Modified                   32 non-null     object \n",
      " 60  Hard_Of_Hearing                          11 non-null     object \n",
      " 61  Visual_Impairments                       6 non-null      object \n",
      " 62  Transportation_Bus                       558 non-null    object \n",
      " 63  Transportation_El                        413 non-null    object \n",
      " 64  Transportation_Metra                     112 non-null    object \n",
      " 65  Average_ACT_School                       0 non-null      float64\n",
      " 66  Mean_ACT                                 0 non-null      float64\n",
      " 67  College_Enrollment_Rate_School           163 non-null    float64\n",
      " 68  College_Enrollment_Rate_Mean             165 non-null    float64\n",
      " 69  Graduation_Rate_School                   138 non-null    float64\n",
      " 70  Graduation_Rate_Mean                     139 non-null    float64\n",
      " 71  Overall_Rating                           651 non-null    object \n",
      " 72  Rating_Status                            649 non-null    object \n",
      " 73  Rating_Statement                         651 non-null    object \n",
      " 74  Classification_Description               647 non-null    object \n",
      " 75  School_Year                              652 non-null    object \n",
      " 76  Third_Contact_Title                      341 non-null    object \n",
      " 77  Third_Contact_Name                       337 non-null    object \n",
      " 78  Fourth_Contact_Title                     229 non-null    object \n",
      " 79  Fourth_Contact_Name                      226 non-null    object \n",
      " 80  Fifth_Contact_Title                      141 non-null    object \n",
      " 81  Fifth_Contact_Name                       141 non-null    object \n",
      " 82  Sixth_Contact_Title                      77 non-null     object \n",
      " 83  Sixth_Contact_Name                       77 non-null     object \n",
      " 84  Seventh_Contact_Title                    38 non-null     object \n",
      " 85  Seventh_Contact_Name                     37 non-null     object \n",
      " 86  Network                                  652 non-null    object \n",
      " 87  Is_GoCPS_Participant                     650 non-null    object \n",
      " 88  Is_GoCPS_PreK                            652 non-null    bool   \n",
      " 89  Is_GoCPS_Elementary                      649 non-null    object \n",
      " 90  Is_GoCPS_High_School                     650 non-null    object \n",
      " 91  Open_For_Enrollment_Date                 652 non-null    object \n",
      " 92  Closed_For_Enrollment_Date               4 non-null      object \n",
      " 93  School_Latitude                          652 non-null    float64\n",
      " 94  School_Longitude                         652 non-null    float64\n",
      " 95  Location                                 652 non-null    object \n",
      " 96  multiSensory                             652 non-null    int64  \n",
      " 97  SignificantlyModifiedMOD                 652 non-null    int64  \n",
      " 98  transition                               652 non-null    int64  \n",
      "dtypes: bool(5), float64(10), int64(21), object(63)\n",
      "memory usage: 482.1+ KB\n"
     ]
    }
   ],
   "source": [
    "import pandas as pd\n",
    "schools = pd.read_csv(\"Chicago_Public_Schools_-_School_Profile_Information_SY2324_20231015.csv\")\n",
    "schools.info()"
   ]
  },
  {
   "cell_type": "markdown",
   "id": "d3f48813",
   "metadata": {},
   "source": [
    "### Steps To Clean The Data\n",
    "1. I combined all minority student counts into one variable named \"minority\".\n",
    "2. I turned all the different student counts into percentages.\n",
    "3. I filtered out the schools without a college enrollment rate.\n",
    "4. I selected all the columns I needed and created a new dataframe named \"Cleaned_schools\" and removed the NA values.\n",
    "5. I also looked at the boxplots of Ethnic_Minority_Percentage, Low_Income_Percentage, Special_Ed_Percentage, English_Learners_Percentage, College_Enrollment_Rate_School, and decided to drop the schools that have extremely high percentage of special ed students because those could suggest that the schools is special ed."
   ]
  },
  {
   "cell_type": "code",
   "execution_count": null,
   "id": "0caca408",
   "metadata": {},
   "outputs": [],
   "source": [
    "# the code for it\n",
    "minority = schools_new.iloc[:,[34,35,37,38,39,40,41,42]]\n",
    "schools_new['Student_Count_Ethnic_Minority'] = minority.sum(axis = 1).values\n",
    "schools_new['Ethnic_Minority_Percentage'] = schools_new.loc[:,'Student_Count_Ethnic_Minority']/schools_new.loc[:,'Student_Count_Total']\n",
    "schools_new['Low_Income_Percentage'] = schools_new['Student_Count_Low_Income']/schools_new['Student_Count_Total'].values\n",
    "schools_new['Special_Ed_Percentage'] = schools_new['Student_Count_Special_Ed']/schools_new['Student_Count_Total'].values\n",
    "schools_new['English_Learners_Percentage'] = schools_new['Student_Count_English_Learners']/schools_new['Student_Count_Total'].values\n",
    "\n",
    "cleaned_schools = schools_new[['School_ID','Zip','Ethnic_Minority_Percentage',\n",
    "                              'Low_Income_Percentage','Special_Ed_Percentage',\n",
    "                              'English_Learners_Percentage','College_Enrollment_Rate_School']]\n",
    "cleaned_schools = cleaned_schools.dropna()\n",
    "\n",
    "q1 = np.percentile(cleaned_schools['Special_Ed_Percentage'], 25)\n",
    "q3 = np.percentile(cleaned_schools['Special_Ed_Percentage'], 75)\n",
    "# print(q1, q3)\n",
    "IQR = q3-q1\n",
    "lwr_bound = q1-(1.5*IQR)\n",
    "upr_bound = q3+(1.5*IQR)\n",
    "cleaned_schools = cleaned_schools[cleaned_schools['Special_Ed_Percentage']<=upr_bound]"
   ]
  },
  {
   "cell_type": "code",
   "execution_count": 17,
   "id": "600f4838",
   "metadata": {},
   "outputs": [
    {
     "name": "stdout",
     "output_type": "stream",
     "text": [
      "<class 'pandas.core.frame.DataFrame'>\n",
      "RangeIndex: 156 entries, 0 to 155\n",
      "Data columns (total 8 columns):\n",
      " #   Column                          Non-Null Count  Dtype  \n",
      "---  ------                          --------------  -----  \n",
      " 0   Unnamed: 0                      156 non-null    int64  \n",
      " 1   School_ID                       156 non-null    int64  \n",
      " 2   Zip                             156 non-null    int64  \n",
      " 3   Ethnic_Minority_Percentage      156 non-null    float64\n",
      " 4   Low_Income_Percentage           156 non-null    float64\n",
      " 5   Special_Ed_Percentage           156 non-null    float64\n",
      " 6   English_Learners_Percentage     156 non-null    float64\n",
      " 7   College_Enrollment_Rate_School  156 non-null    float64\n",
      "dtypes: float64(5), int64(3)\n",
      "memory usage: 9.9 KB\n"
     ]
    }
   ],
   "source": [
    "cleaned_schools = pd.read_csv(\"Cleaned_schools.csv\")\n",
    "cleaned_schools.info()"
   ]
  },
  {
   "cell_type": "markdown",
   "id": "d0e1e773",
   "metadata": {},
   "source": [
    " Unnamed: 0 : The attribute's row number in the original dataset. Kept because might be useful.\n",
    " \n",
    " School_ID\n",
    " \n",
    " Zip\n",
    " \n",
    " Ethnic_Minority_Percentage: The percentage of ethnic minority students in the school\n",
    " \n",
    " Low_Income_Percentage: The percentage of low income students in the school\n",
    " \n",
    " Special_Ed_Percentage: The percentage of special ed students in the school\n",
    " \n",
    " English_Learners_Percentage: The percentage of English learners in the school\n",
    " \n",
    " College_Enrollment_Rate_School: The college enrollment rate of the school"
   ]
  },
  {
   "cell_type": "markdown",
   "id": "d1c4f6d6",
   "metadata": {},
   "source": [
    "# 3. Results"
   ]
  },
  {
   "cell_type": "code",
   "execution_count": 19,
   "id": "6fc67f59",
   "metadata": {},
   "outputs": [],
   "source": [
    "from IPython.core.interactiveshell import InteractiveShell\n",
    "InteractiveShell.ast_node_interactivity = \"all\"\n",
    "\n",
    "import pandas as pd\n",
    "import numpy as np\n",
    "\n",
    "import seaborn as sns\n",
    "import matplotlib.pyplot as plt\n",
    "import plotly.express as px\n",
    "\n",
    "%matplotlib inline"
   ]
  },
  {
   "cell_type": "code",
   "execution_count": 20,
   "id": "6af5a51a",
   "metadata": {},
   "outputs": [
    {
     "data": {
      "text/plain": [
       "<seaborn.axisgrid.PairGrid at 0x13b259210>"
      ]
     },
     "execution_count": 20,
     "metadata": {},
     "output_type": "execute_result"
    },
    {
     "data": {
      "image/png": "[encoded data removed]",
      "text/plain": [
       "<Figure size 1250x1250 with 30 Axes>"
      ]
     },
     "metadata": {},
     "output_type": "display_data"
    }
   ],
   "source": [
    "columns = ['Ethnic_Minority_Percentage','Low_Income_Percentage','Special_Ed_Percentage',\n",
    "          'English_Learners_Percentage','College_Enrollment_Rate_School']\n",
    "sns.pairplot(cleaned_schools[columns])"
   ]
  },
  {
   "cell_type": "markdown",
   "id": "1376cd33",
   "metadata": {},
   "source": [
    "The scatter plots show linearity between some of our independent variables. For example, low income percentage and ethnic minority percentage. However, the relationship between college enrollment rate and other variables are less clear."
   ]
  },
  {
   "cell_type": "code",
   "execution_count": 23,
   "id": "2ae3c0cf",
   "metadata": {},
   "outputs": [
    {
     "data": {
      "text/plain": [
       "<Axes: ylabel='Count'>"
      ]
     },
     "execution_count": 23,
     "metadata": {},
     "output_type": "execute_result"
    },
    {
     "data": {
      "image/png": "[encoded data removed]",
      "text/plain": [
       "<Figure size 640x480 with 1 Axes>"
      ]
     },
     "metadata": {},
     "output_type": "display_data"
    }
   ],
   "source": [
    "columns = ['Ethnic_Minority_Percentage','Low_Income_Percentage','Special_Ed_Percentage',\n",
    "          'English_Learners_Percentage']\n",
    "sns.histplot(data = cleaned_schools[columns])"
   ]
  },
  {
   "cell_type": "markdown",
   "id": "0b05766b",
   "metadata": {},
   "source": [
    "The histograms of show that ethnic minority percentage, low income percentage, and special ed percentage skew to the right, meaning that many schools in our dataset have high percentage of ethnic minority and epcial ed students. The English learner percentage skew to the left, meaning that most schools do not have a high percentage of English learners. The College enrollment rates are relatively uniform distribution rate.\n",
    "These observations make sense because the dataset only has public school data, and low income students tend to go to public schools."
   ]
  },
  {
   "cell_type": "code",
   "execution_count": 24,
   "id": "5cc1820f",
   "metadata": {},
   "outputs": [
    {
     "data": {
      "text/html": [
       "<div>\n",
       "<style scoped>\n",
       "    .dataframe tbody tr th:only-of-type {\n",
       "        vertical-align: middle;\n",
       "    }\n",
       "\n",
       "    .dataframe tbody tr th {\n",
       "        vertical-align: top;\n",
       "    }\n",
       "\n",
       "    .dataframe thead th {\n",
       "        text-align: right;\n",
       "    }\n",
       "</style>\n",
       "<table border=\"1\" class=\"dataframe\">\n",
       "  <thead>\n",
       "    <tr style=\"text-align: right;\">\n",
       "      <th></th>\n",
       "      <th>Zip</th>\n",
       "      <th>Ethnic_Minority_Percentage</th>\n",
       "      <th>Low_Income_Percentage</th>\n",
       "      <th>Special_Ed_Percentage</th>\n",
       "      <th>English_Learners_Percentage</th>\n",
       "      <th>College_Enrollment_Rate_School</th>\n",
       "    </tr>\n",
       "  </thead>\n",
       "  <tbody>\n",
       "    <tr>\n",
       "      <th>Zip</th>\n",
       "      <td>1.000000</td>\n",
       "      <td>0.049241</td>\n",
       "      <td>0.040338</td>\n",
       "      <td>-0.091953</td>\n",
       "      <td>0.037370</td>\n",
       "      <td>0.031899</td>\n",
       "    </tr>\n",
       "    <tr>\n",
       "      <th>Ethnic_Minority_Percentage</th>\n",
       "      <td>0.049241</td>\n",
       "      <td>1.000000</td>\n",
       "      <td>0.785570</td>\n",
       "      <td>0.295072</td>\n",
       "      <td>0.014173</td>\n",
       "      <td>-0.373652</td>\n",
       "    </tr>\n",
       "    <tr>\n",
       "      <th>Low_Income_Percentage</th>\n",
       "      <td>0.040338</td>\n",
       "      <td>0.785570</td>\n",
       "      <td>1.000000</td>\n",
       "      <td>0.306780</td>\n",
       "      <td>0.200500</td>\n",
       "      <td>-0.186769</td>\n",
       "    </tr>\n",
       "    <tr>\n",
       "      <th>Special_Ed_Percentage</th>\n",
       "      <td>-0.091953</td>\n",
       "      <td>0.295072</td>\n",
       "      <td>0.306780</td>\n",
       "      <td>1.000000</td>\n",
       "      <td>-0.066248</td>\n",
       "      <td>-0.469917</td>\n",
       "    </tr>\n",
       "    <tr>\n",
       "      <th>English_Learners_Percentage</th>\n",
       "      <td>0.037370</td>\n",
       "      <td>0.014173</td>\n",
       "      <td>0.200500</td>\n",
       "      <td>-0.066248</td>\n",
       "      <td>1.000000</td>\n",
       "      <td>0.098049</td>\n",
       "    </tr>\n",
       "    <tr>\n",
       "      <th>College_Enrollment_Rate_School</th>\n",
       "      <td>0.031899</td>\n",
       "      <td>-0.373652</td>\n",
       "      <td>-0.186769</td>\n",
       "      <td>-0.469917</td>\n",
       "      <td>0.098049</td>\n",
       "      <td>1.000000</td>\n",
       "    </tr>\n",
       "  </tbody>\n",
       "</table>\n",
       "</div>"
      ],
      "text/plain": [
       "                                     Zip  Ethnic_Minority_Percentage  \\\n",
       "Zip                             1.000000                    0.049241   \n",
       "Ethnic_Minority_Percentage      0.049241                    1.000000   \n",
       "Low_Income_Percentage           0.040338                    0.785570   \n",
       "Special_Ed_Percentage          -0.091953                    0.295072   \n",
       "English_Learners_Percentage     0.037370                    0.014173   \n",
       "College_Enrollment_Rate_School  0.031899                   -0.373652   \n",
       "\n",
       "                                Low_Income_Percentage  Special_Ed_Percentage  \\\n",
       "Zip                                          0.040338              -0.091953   \n",
       "Ethnic_Minority_Percentage                   0.785570               0.295072   \n",
       "Low_Income_Percentage                        1.000000               0.306780   \n",
       "Special_Ed_Percentage                        0.306780               1.000000   \n",
       "English_Learners_Percentage                  0.200500              -0.066248   \n",
       "College_Enrollment_Rate_School              -0.186769              -0.469917   \n",
       "\n",
       "                                English_Learners_Percentage  \\\n",
       "Zip                                                0.037370   \n",
       "Ethnic_Minority_Percentage                         0.014173   \n",
       "Low_Income_Percentage                              0.200500   \n",
       "Special_Ed_Percentage                             -0.066248   \n",
       "English_Learners_Percentage                        1.000000   \n",
       "College_Enrollment_Rate_School                     0.098049   \n",
       "\n",
       "                                College_Enrollment_Rate_School  \n",
       "Zip                                                   0.031899  \n",
       "Ethnic_Minority_Percentage                           -0.373652  \n",
       "Low_Income_Percentage                                -0.186769  \n",
       "Special_Ed_Percentage                                -0.469917  \n",
       "English_Learners_Percentage                           0.098049  \n",
       "College_Enrollment_Rate_School                        1.000000  "
      ]
     },
     "execution_count": 24,
     "metadata": {},
     "output_type": "execute_result"
    },
    {
     "data": {
      "text/plain": [
       "<Axes: >"
      ]
     },
     "execution_count": 24,
     "metadata": {},
     "output_type": "execute_result"
    },
    {
     "data": {
      "image/png": "[encoded data removed]",
      "text/plain": [
       "<Figure size 1000x1000 with 2 Axes>"
      ]
     },
     "metadata": {},
     "output_type": "display_data"
    }
   ],
   "source": [
    "df_corr = cleaned_schools.loc[:,'Zip':'College_Enrollment_Rate_School']\n",
    "\n",
    "# creates a correlation matrix\n",
    "corrmat = df_corr.corr()\n",
    "corrmat\n",
    "\n",
    "# heatmap of correlation matrix\n",
    "f, ax = plt.subplots(figsize = (10, 10))\n",
    "sns.heatmap(corrmat, vmax = .8, square = True, annot = True, cmap = 'PiYG', linewidths = .5 )"
   ]
  },
  {
   "cell_type": "markdown",
   "id": "56302e7a",
   "metadata": {},
   "source": [
    "From the correlation heat map, ethnic monority percentage, low income percentage and special ed percentage all have a negative correlation with college enrollment rate, meaning that an increase in these percentages corresponds to a decrease in collge enrollment rate.\n",
    "Zip and English learners percentage as a slight positive correlation with college enrollment rate, meaning that an increase in these corresponds to an increase in college enrollment rate. However, since zip is categorical, the correlation might be a coincidence and we need further analysis for it.\n",
    "The map also shows that there's a strong positive correlation between low income percentage and ethnic minority percentage."
   ]
  },
  {
   "cell_type": "code",
   "execution_count": 25,
   "id": "1490fb66",
   "metadata": {},
   "outputs": [
    {
     "data": {
      "text/html": [
       "<div>\n",
       "<style scoped>\n",
       "    .dataframe tbody tr th:only-of-type {\n",
       "        vertical-align: middle;\n",
       "    }\n",
       "\n",
       "    .dataframe tbody tr th {\n",
       "        vertical-align: top;\n",
       "    }\n",
       "\n",
       "    .dataframe thead th {\n",
       "        text-align: right;\n",
       "    }\n",
       "</style>\n",
       "<table border=\"1\" class=\"dataframe\">\n",
       "  <thead>\n",
       "    <tr style=\"text-align: right;\">\n",
       "      <th></th>\n",
       "      <th>Zip</th>\n",
       "      <th>Unnamed: 0</th>\n",
       "      <th>School_ID</th>\n",
       "      <th>Ethnic_Minority_Percentage</th>\n",
       "      <th>Low_Income_Percentage</th>\n",
       "      <th>Special_Ed_Percentage</th>\n",
       "      <th>English_Learners_Percentage</th>\n",
       "      <th>College_Enrollment_Rate_School</th>\n",
       "    </tr>\n",
       "  </thead>\n",
       "  <tbody>\n",
       "    <tr>\n",
       "      <th>2</th>\n",
       "      <td>60607</td>\n",
       "      <td>257.00</td>\n",
       "      <td>609755.0</td>\n",
       "      <td>0.759243</td>\n",
       "      <td>0.354824</td>\n",
       "      <td>0.098738</td>\n",
       "      <td>0.022543</td>\n",
       "      <td>88.300</td>\n",
       "    </tr>\n",
       "    <tr>\n",
       "      <th>1</th>\n",
       "      <td>60605</td>\n",
       "      <td>208.00</td>\n",
       "      <td>609678.0</td>\n",
       "      <td>0.684318</td>\n",
       "      <td>0.398167</td>\n",
       "      <td>0.090122</td>\n",
       "      <td>0.030041</td>\n",
       "      <td>88.300</td>\n",
       "    </tr>\n",
       "    <tr>\n",
       "      <th>5</th>\n",
       "      <td>60610</td>\n",
       "      <td>222.00</td>\n",
       "      <td>504925.0</td>\n",
       "      <td>0.816760</td>\n",
       "      <td>0.566664</td>\n",
       "      <td>0.117511</td>\n",
       "      <td>0.104995</td>\n",
       "      <td>84.250</td>\n",
       "    </tr>\n",
       "    <tr>\n",
       "      <th>8</th>\n",
       "      <td>60614</td>\n",
       "      <td>106.00</td>\n",
       "      <td>609738.0</td>\n",
       "      <td>0.677958</td>\n",
       "      <td>0.446565</td>\n",
       "      <td>0.072519</td>\n",
       "      <td>0.070611</td>\n",
       "      <td>81.800</td>\n",
       "    </tr>\n",
       "    <tr>\n",
       "      <th>32</th>\n",
       "      <td>60642</td>\n",
       "      <td>337.75</td>\n",
       "      <td>452672.0</td>\n",
       "      <td>0.943289</td>\n",
       "      <td>0.756485</td>\n",
       "      <td>0.133452</td>\n",
       "      <td>0.203982</td>\n",
       "      <td>81.625</td>\n",
       "    </tr>\n",
       "  </tbody>\n",
       "</table>\n",
       "</div>"
      ],
      "text/plain": [
       "      Zip  Unnamed: 0  School_ID  Ethnic_Minority_Percentage  \\\n",
       "2   60607      257.00   609755.0                    0.759243   \n",
       "1   60605      208.00   609678.0                    0.684318   \n",
       "5   60610      222.00   504925.0                    0.816760   \n",
       "8   60614      106.00   609738.0                    0.677958   \n",
       "32  60642      337.75   452672.0                    0.943289   \n",
       "\n",
       "    Low_Income_Percentage  Special_Ed_Percentage  English_Learners_Percentage  \\\n",
       "2                0.354824               0.098738                     0.022543   \n",
       "1                0.398167               0.090122                     0.030041   \n",
       "5                0.566664               0.117511                     0.104995   \n",
       "8                0.446565               0.072519                     0.070611   \n",
       "32               0.756485               0.133452                     0.203982   \n",
       "\n",
       "    College_Enrollment_Rate_School  \n",
       "2                           88.300  \n",
       "1                           88.300  \n",
       "5                           84.250  \n",
       "8                           81.800  \n",
       "32                          81.625  "
      ]
     },
     "execution_count": 25,
     "metadata": {},
     "output_type": "execute_result"
    },
    {
     "data": {
      "text/html": [
       "<div>\n",
       "<style scoped>\n",
       "    .dataframe tbody tr th:only-of-type {\n",
       "        vertical-align: middle;\n",
       "    }\n",
       "\n",
       "    .dataframe tbody tr th {\n",
       "        vertical-align: top;\n",
       "    }\n",
       "\n",
       "    .dataframe thead th {\n",
       "        text-align: right;\n",
       "    }\n",
       "</style>\n",
       "<table border=\"1\" class=\"dataframe\">\n",
       "  <thead>\n",
       "    <tr style=\"text-align: right;\">\n",
       "      <th></th>\n",
       "      <th>Zip</th>\n",
       "      <th>Unnamed: 0</th>\n",
       "      <th>School_ID</th>\n",
       "      <th>Ethnic_Minority_Percentage</th>\n",
       "      <th>Low_Income_Percentage</th>\n",
       "      <th>Special_Ed_Percentage</th>\n",
       "      <th>English_Learners_Percentage</th>\n",
       "      <th>College_Enrollment_Rate_School</th>\n",
       "    </tr>\n",
       "  </thead>\n",
       "  <tbody>\n",
       "    <tr>\n",
       "      <th>38</th>\n",
       "      <td>60651</td>\n",
       "      <td>348.333333</td>\n",
       "      <td>400108.666667</td>\n",
       "      <td>0.989810</td>\n",
       "      <td>0.762118</td>\n",
       "      <td>0.205232</td>\n",
       "      <td>0.093579</td>\n",
       "      <td>25.166667</td>\n",
       "    </tr>\n",
       "    <tr>\n",
       "      <th>34</th>\n",
       "      <td>60644</td>\n",
       "      <td>277.750000</td>\n",
       "      <td>557782.500000</td>\n",
       "      <td>0.994856</td>\n",
       "      <td>0.805580</td>\n",
       "      <td>0.216060</td>\n",
       "      <td>0.010428</td>\n",
       "      <td>28.350000</td>\n",
       "    </tr>\n",
       "    <tr>\n",
       "      <th>10</th>\n",
       "      <td>60616</td>\n",
       "      <td>322.000000</td>\n",
       "      <td>442022.800000</td>\n",
       "      <td>0.988975</td>\n",
       "      <td>0.792345</td>\n",
       "      <td>0.239241</td>\n",
       "      <td>0.015433</td>\n",
       "      <td>34.320000</td>\n",
       "    </tr>\n",
       "    <tr>\n",
       "      <th>3</th>\n",
       "      <td>60608</td>\n",
       "      <td>402.571429</td>\n",
       "      <td>460009.285714</td>\n",
       "      <td>0.987006</td>\n",
       "      <td>0.827837</td>\n",
       "      <td>0.175723</td>\n",
       "      <td>0.273281</td>\n",
       "      <td>37.285714</td>\n",
       "    </tr>\n",
       "    <tr>\n",
       "      <th>33</th>\n",
       "      <td>60643</td>\n",
       "      <td>479.500000</td>\n",
       "      <td>504916.750000</td>\n",
       "      <td>0.988784</td>\n",
       "      <td>0.770315</td>\n",
       "      <td>0.171846</td>\n",
       "      <td>0.006536</td>\n",
       "      <td>38.200000</td>\n",
       "    </tr>\n",
       "  </tbody>\n",
       "</table>\n",
       "</div>"
      ],
      "text/plain": [
       "      Zip  Unnamed: 0      School_ID  Ethnic_Minority_Percentage  \\\n",
       "38  60651  348.333333  400108.666667                    0.989810   \n",
       "34  60644  277.750000  557782.500000                    0.994856   \n",
       "10  60616  322.000000  442022.800000                    0.988975   \n",
       "3   60608  402.571429  460009.285714                    0.987006   \n",
       "33  60643  479.500000  504916.750000                    0.988784   \n",
       "\n",
       "    Low_Income_Percentage  Special_Ed_Percentage  English_Learners_Percentage  \\\n",
       "38               0.762118               0.205232                     0.093579   \n",
       "34               0.805580               0.216060                     0.010428   \n",
       "10               0.792345               0.239241                     0.015433   \n",
       "3                0.827837               0.175723                     0.273281   \n",
       "33               0.770315               0.171846                     0.006536   \n",
       "\n",
       "    College_Enrollment_Rate_School  \n",
       "38                       25.166667  \n",
       "34                       28.350000  \n",
       "10                       34.320000  \n",
       "3                        37.285714  \n",
       "33                       38.200000  "
      ]
     },
     "execution_count": 25,
     "metadata": {},
     "output_type": "execute_result"
    }
   ],
   "source": [
    "grouped = cleaned_schools.groupby('Zip', as_index=False)\n",
    "grouped_mean = grouped.mean()\n",
    "grouped_mean.sort_values(['College_Enrollment_Rate_School'], ascending = False).head()\n",
    "grouped_mean.sort_values(['College_Enrollment_Rate_School']).head()"
   ]
  },
  {
   "cell_type": "markdown",
   "id": "2ce6f94e",
   "metadata": {},
   "source": [
    "After some research, it turned out the the top five zip codes with the highest college enrollment rates are in the downtown and north area of Chicago.And the bottom five zip codes with the lowest college enrollment rates are mainly from the west side and the south Chicago area. From the top five and bottom five rows we can also observe that the zip codes with lowest college enrollment rate also have higher percentage of ethnic minorities, low income, and special ed students."
   ]
  },
  {
   "cell_type": "code",
   "execution_count": 27,
   "id": "d33c3d8f",
   "metadata": {},
   "outputs": [
    {
     "data": {
      "text/html": [
       "<style>\n",
       "        .bk-notebook-logo {\n",
       "            display: block;\n",
       "            width: 20px;\n",
       "            height: 20px;\n",
       "            background-image: url(data:image/png;base64,iVBORw0KGgoAAAANSUhEUgAAABQAAAAUCAYAAACNiR0NAAAABHNCSVQICAgIfAhkiAAAAAlwSFlzAAALEgAACxIB0t1+/AAAABx0RVh0U29mdHdhcmUAQWRvYmUgRmlyZXdvcmtzIENTNui8sowAAAOkSURBVDiNjZRtaJVlGMd/1/08zzln5zjP1LWcU9N0NkN8m2CYjpgQYQXqSs0I84OLIC0hkEKoPtiH3gmKoiJDU7QpLgoLjLIQCpEsNJ1vqUOdO7ppbuec5+V+rj4ctwzd8IIbbi6u+8f1539dt3A78eXC7QizUF7gyV1fD1Yqg4JWz84yffhm0qkFqBogB9rM8tZdtwVsPUhWhGcFJngGeWrPzHm5oaMmkfEg1usvLFyc8jLRqDOMru7AyC8saQr7GG7f5fvDeH7Ej8CM66nIF+8yngt6HWaKh7k49Soy9nXurCi1o3qUbS3zWfrYeQDTB/Qj6kX6Ybhw4B+bOYoLKCC9H3Nu/leUTZ1JdRWkkn2ldcCamzrcf47KKXdAJllSlxAOkRgyHsGC/zRday5Qld9DyoM4/q/rUoy/CXh3jzOu3bHUVZeU+DEn8FInkPBFlu3+nW3Nw0mk6vCDiWg8CeJaxEwuHS3+z5RgY+YBR6V1Z1nxSOfoaPa4LASWxxdNp+VWTk7+4vzaou8v8PN+xo+KY2xsw6une2frhw05CTYOmQvsEhjhWjn0bmXPjpE1+kplmmkP3suftwTubK9Vq22qKmrBhpY4jvd5afdRA3wGjFAgcnTK2s4hY0/GPNIb0nErGMCRxWOOX64Z8RAC4oCXdklmEvcL8o0BfkNK4lUg9HTl+oPlQxdNo3Mg4Nv175e/1LDGzZen30MEjRUtmXSfiTVu1kK8W4txyV6BMKlbgk3lMwYCiusNy9fVfvvwMxv8Ynl6vxoByANLTWplvuj/nF9m2+PDtt1eiHPBr1oIfhCChQMBw6Aw0UulqTKZdfVvfG7VcfIqLG9bcldL/+pdWTLxLUy8Qq38heUIjh4XlzZxzQm19lLFlr8vdQ97rjZVOLf8nclzckbcD4wxXMidpX30sFd37Fv/GtwwhzhxGVAprjbg0gCAEeIgwCZyTV2Z1REEW8O4py0wsjeloKoMr6iCY6dP92H6Vw/oTyICIthibxjm/DfN9lVz8IqtqKYLUXfoKVMVQVVJOElGjrnnUt9T9wbgp8AyYKaGlqingHZU/uG2NTZSVqwHQTWkx9hxjkpWDaCg6Ckj5qebgBVbT3V3NNXMSiWSDdGV3hrtzla7J+duwPOToIg42ChPQOQjspnSlp1V+Gjdged7+8UN5CRAV7a5EdFNwCjEaBR27b3W890TE7g24NAP/mMDXRWrGoFPQI9ls/MWO2dWFAar/xcOIImbbpA3zgAAAABJRU5ErkJggg==);\n",
       "        }\n",
       "    </style>\n",
       "    <div>\n",
       "        <a href=\"https://bokeh.org\" target=\"_blank\" class=\"bk-notebook-logo\"></a>\n",
       "        <span id=\"e8d5ad64-4d66-43f8-8991-f345e6d0258d\">Loading BokehJS ...</span>\n",
       "    </div>\n"
      ]
     },
     "metadata": {},
     "output_type": "display_data"
    },
    {
     "data": {
      "application/javascript": [
       "(function(root) {\n",
       "  function now() {\n",
       "    return new Date();\n",
       "  }\n",
       "\n",
       "  const force = true;\n",
       "\n",
       "  if (typeof root._bokeh_onload_callbacks === \"undefined\" || force === true) {\n",
       "    root._bokeh_onload_callbacks = [];\n",
       "    root._bokeh_is_loading = undefined;\n",
       "  }\n",
       "\n",
       "const JS_MIME_TYPE = 'application/javascript';\n",
       "  const HTML_MIME_TYPE = 'text/html';\n",
       "  const EXEC_MIME_TYPE = 'application/vnd.bokehjs_exec.v0+json';\n",
       "  const CLASS_NAME = 'output_bokeh rendered_html';\n",
       "\n",
       "  /**\n",
       "   * Render data to the DOM node\n",
       "   */\n",
       "  function render(props, node) {\n",
       "    const script = document.createElement(\"script\");\n",
       "    node.appendChild(script);\n",
       "  }\n",
       "\n",
       "  /**\n",
       "   * Handle when an output is cleared or removed\n",
       "   */\n",
       "  function handleClearOutput(event, handle) {\n",
       "    const cell = handle.cell;\n",
       "\n",
       "    const id = cell.output_area._bokeh_element_id;\n",
       "    const server_id = cell.output_area._bokeh_server_id;\n",
       "    // Clean up Bokeh references\n",
       "    if (id != null && id in Bokeh.index) {\n",
       "      Bokeh.index[id].model.document.clear();\n",
       "      delete Bokeh.index[id];\n",
       "    }\n",
       "\n",
       "    if (server_id !== undefined) {\n",
       "      // Clean up Bokeh references\n",
       "      const cmd_clean = \"from bokeh.io.state import curstate; print(curstate().uuid_to_server['\" + server_id + \"'].get_sessions()[0].document.roots[0]._id)\";\n",
       "      cell.notebook.kernel.execute(cmd_clean, {\n",
       "        iopub: {\n",
       "          output: function(msg) {\n",
       "            const id = msg.content.text.trim();\n",
       "            if (id in Bokeh.index) {\n",
       "              Bokeh.index[id].model.document.clear();\n",
       "              delete Bokeh.index[id];\n",
       "            }\n",
       "          }\n",
       "        }\n",
       "      });\n",
       "      // Destroy server and session\n",
       "      const cmd_destroy = \"import bokeh.io.notebook as ion; ion.destroy_server('\" + server_id + \"')\";\n",
       "      cell.notebook.kernel.execute(cmd_destroy);\n",
       "    }\n",
       "  }\n",
       "\n",
       "  /**\n",
       "   * Handle when a new output is added\n",
       "   */\n",
       "  function handleAddOutput(event, handle) {\n",
       "    const output_area = handle.output_area;\n",
       "    const output = handle.output;\n",
       "\n",
       "    // limit handleAddOutput to display_data with EXEC_MIME_TYPE content only\n",
       "    if ((output.output_type != \"display_data\") || (!Object.prototype.hasOwnProperty.call(output.data, EXEC_MIME_TYPE))) {\n",
       "      return\n",
       "    }\n",
       "\n",
       "    const toinsert = output_area.element.find(\".\" + CLASS_NAME.split(' ')[0]);\n",
       "\n",
       "    if (output.metadata[EXEC_MIME_TYPE][\"id\"] !== undefined) {\n",
       "      toinsert[toinsert.length - 1].firstChild.textContent = output.data[JS_MIME_TYPE];\n",
       "      // store reference to embed id on output_area\n",
       "      output_area._bokeh_element_id = output.metadata[EXEC_MIME_TYPE][\"id\"];\n",
       "    }\n",
       "    if (output.metadata[EXEC_MIME_TYPE][\"server_id\"] !== undefined) {\n",
       "      const bk_div = document.createElement(\"div\");\n",
       "      bk_div.innerHTML = output.data[HTML_MIME_TYPE];\n",
       "      const script_attrs = bk_div.children[0].attributes;\n",
       "      for (let i = 0; i < script_attrs.length; i++) {\n",
       "        toinsert[toinsert.length - 1].firstChild.setAttribute(script_attrs[i].name, script_attrs[i].value);\n",
       "        toinsert[toinsert.length - 1].firstChild.textContent = bk_div.children[0].textContent\n",
       "      }\n",
       "      // store reference to server id on output_area\n",
       "      output_area._bokeh_server_id = output.metadata[EXEC_MIME_TYPE][\"server_id\"];\n",
       "    }\n",
       "  }\n",
       "\n",
       "  function register_renderer(events, OutputArea) {\n",
       "\n",
       "    function append_mime(data, metadata, element) {\n",
       "      // create a DOM node to render to\n",
       "      const toinsert = this.create_output_subarea(\n",
       "        metadata,\n",
       "        CLASS_NAME,\n",
       "        EXEC_MIME_TYPE\n",
       "      );\n",
       "      this.keyboard_manager.register_events(toinsert);\n",
       "      // Render to node\n",
       "      const props = {data: data, metadata: metadata[EXEC_MIME_TYPE]};\n",
       "      render(props, toinsert[toinsert.length - 1]);\n",
       "      element.append(toinsert);\n",
       "      return toinsert\n",
       "    }\n",
       "\n",
       "    /* Handle when an output is cleared or removed */\n",
       "    events.on('clear_output.CodeCell', handleClearOutput);\n",
       "    events.on('delete.Cell', handleClearOutput);\n",
       "\n",
       "    /* Handle when a new output is added */\n",
       "    events.on('output_added.OutputArea', handleAddOutput);\n",
       "\n",
       "    /**\n",
       "     * Register the mime type and append_mime function with output_area\n",
       "     */\n",
       "    OutputArea.prototype.register_mime_type(EXEC_MIME_TYPE, append_mime, {\n",
       "      /* Is output safe? */\n",
       "      safe: true,\n",
       "      /* Index of renderer in `output_area.display_order` */\n",
       "      index: 0\n",
       "    });\n",
       "  }\n",
       "\n",
       "  // register the mime type if in Jupyter Notebook environment and previously unregistered\n",
       "  if (root.Jupyter !== undefined) {\n",
       "    const events = require('base/js/events');\n",
       "    const OutputArea = require('notebook/js/outputarea').OutputArea;\n",
       "\n",
       "    if (OutputArea.prototype.mime_types().indexOf(EXEC_MIME_TYPE) == -1) {\n",
       "      register_renderer(events, OutputArea);\n",
       "    }\n",
       "  }\n",
       "  if (typeof (root._bokeh_timeout) === \"undefined\" || force === true) {\n",
       "    root._bokeh_timeout = Date.now() + 5000;\n",
       "    root._bokeh_failed_load = false;\n",
       "  }\n",
       "\n",
       "  const NB_LOAD_WARNING = {'data': {'text/html':\n",
       "     \"<div style='background-color: #fdd'>\\n\"+\n",
       "     \"<p>\\n\"+\n",
       "     \"BokehJS does not appear to have successfully loaded. If loading BokehJS from CDN, this \\n\"+\n",
       "     \"may be due to a slow or bad network connection. Possible fixes:\\n\"+\n",
       "     \"</p>\\n\"+\n",
       "     \"<ul>\\n\"+\n",
       "     \"<li>re-rerun `output_notebook()` to attempt to load from CDN again, or</li>\\n\"+\n",
       "     \"<li>use INLINE resources instead, as so:</li>\\n\"+\n",
       "     \"</ul>\\n\"+\n",
       "     \"<code>\\n\"+\n",
       "     \"from bokeh.resources import INLINE\\n\"+\n",
       "     \"output_notebook(resources=INLINE)\\n\"+\n",
       "     \"</code>\\n\"+\n",
       "     \"</div>\"}};\n",
       "\n",
       "  function display_loaded() {\n",
       "    const el = document.getElementById(\"e8d5ad64-4d66-43f8-8991-f345e6d0258d\");\n",
       "    if (el != null) {\n",
       "      el.textContent = \"BokehJS is loading...\";\n",
       "    }\n",
       "    if (root.Bokeh !== undefined) {\n",
       "      if (el != null) {\n",
       "        el.textContent = \"BokehJS \" + root.Bokeh.version + \" successfully loaded.\";\n",
       "      }\n",
       "    } else if (Date.now() < root._bokeh_timeout) {\n",
       "      setTimeout(display_loaded, 100)\n",
       "    }\n",
       "  }\n",
       "\n",
       "  function run_callbacks() {\n",
       "    try {\n",
       "      root._bokeh_onload_callbacks.forEach(function(callback) {\n",
       "        if (callback != null)\n",
       "          callback();\n",
       "      });\n",
       "    } finally {\n",
       "      delete root._bokeh_onload_callbacks\n",
       "    }\n",
       "    console.debug(\"Bokeh: all callbacks have finished\");\n",
       "  }\n",
       "\n",
       "  function load_libs(css_urls, js_urls, callback) {\n",
       "    if (css_urls == null) css_urls = [];\n",
       "    if (js_urls == null) js_urls = [];\n",
       "\n",
       "    root._bokeh_onload_callbacks.push(callback);\n",
       "    if (root._bokeh_is_loading > 0) {\n",
       "      console.debug(\"Bokeh: BokehJS is being loaded, scheduling callback at\", now());\n",
       "      return null;\n",
       "    }\n",
       "    if (js_urls == null || js_urls.length === 0) {\n",
       "      run_callbacks();\n",
       "      return null;\n",
       "    }\n",
       "    console.debug(\"Bokeh: BokehJS not loaded, scheduling load and callback at\", now());\n",
       "    root._bokeh_is_loading = css_urls.length + js_urls.length;\n",
       "\n",
       "    function on_load() {\n",
       "      root._bokeh_is_loading--;\n",
       "      if (root._bokeh_is_loading === 0) {\n",
       "        console.debug(\"Bokeh: all BokehJS libraries/stylesheets loaded\");\n",
       "        run_callbacks()\n",
       "      }\n",
       "    }\n",
       "\n",
       "    function on_error(url) {\n",
       "      console.error(\"failed to load \" + url);\n",
       "    }\n",
       "\n",
       "    for (let i = 0; i < css_urls.length; i++) {\n",
       "      const url = css_urls[i];\n",
       "      const element = document.createElement(\"link\");\n",
       "      element.onload = on_load;\n",
       "      element.onerror = on_error.bind(null, url);\n",
       "      element.rel = \"stylesheet\";\n",
       "      element.type = \"text/css\";\n",
       "      element.href = url;\n",
       "      console.debug(\"Bokeh: injecting link tag for BokehJS stylesheet: \", url);\n",
       "      document.body.appendChild(element);\n",
       "    }\n",
       "\n",
       "    for (let i = 0; i < js_urls.length; i++) {\n",
       "      const url = js_urls[i];\n",
       "      const element = document.createElement('script');\n",
       "      element.onload = on_load;\n",
       "      element.onerror = on_error.bind(null, url);\n",
       "      element.async = false;\n",
       "      element.src = url;\n",
       "      console.debug(\"Bokeh: injecting script tag for BokehJS library: \", url);\n",
       "      document.head.appendChild(element);\n",
       "    }\n",
       "  };\n",
       "\n",
       "  function inject_raw_css(css) {\n",
       "    const element = document.createElement(\"style\");\n",
       "    element.appendChild(document.createTextNode(css));\n",
       "    document.body.appendChild(element);\n",
       "  }\n",
       "\n",
       "  const js_urls = [\"https://cdn.bokeh.org/bokeh/release/bokeh-3.2.1.min.js\", \"https://cdn.bokeh.org/bokeh/release/bokeh-gl-3.2.1.min.js\", \"https://cdn.bokeh.org/bokeh/release/bokeh-widgets-3.2.1.min.js\", \"https://cdn.bokeh.org/bokeh/release/bokeh-tables-3.2.1.min.js\", \"https://cdn.bokeh.org/bokeh/release/bokeh-mathjax-3.2.1.min.js\"];\n",
       "  const css_urls = [];\n",
       "\n",
       "  const inline_js = [    function(Bokeh) {\n",
       "      Bokeh.set_log_level(\"info\");\n",
       "    },\n",
       "function(Bokeh) {\n",
       "    }\n",
       "  ];\n",
       "\n",
       "  function run_inline_js() {\n",
       "    if (root.Bokeh !== undefined || force === true) {\n",
       "          for (let i = 0; i < inline_js.length; i++) {\n",
       "      inline_js[i].call(root, root.Bokeh);\n",
       "    }\n",
       "if (force === true) {\n",
       "        display_loaded();\n",
       "      }} else if (Date.now() < root._bokeh_timeout) {\n",
       "      setTimeout(run_inline_js, 100);\n",
       "    } else if (!root._bokeh_failed_load) {\n",
       "      console.log(\"Bokeh: BokehJS failed to load within specified timeout.\");\n",
       "      root._bokeh_failed_load = true;\n",
       "    } else if (force !== true) {\n",
       "      const cell = $(document.getElementById(\"e8d5ad64-4d66-43f8-8991-f345e6d0258d\")).parents('.cell').data().cell;\n",
       "      cell.output_area.append_execute_result(NB_LOAD_WARNING)\n",
       "    }\n",
       "  }\n",
       "\n",
       "  if (root._bokeh_is_loading === 0) {\n",
       "    console.debug(\"Bokeh: BokehJS loaded, going straight to plotting\");\n",
       "    run_inline_js();\n",
       "  } else {\n",
       "    load_libs(css_urls, js_urls, function() {\n",
       "      console.debug(\"Bokeh: BokehJS plotting callback run at\", now());\n",
       "      run_inline_js();\n",
       "    });\n",
       "  }\n",
       "}(window));"
      ],
      "application/vnd.bokehjs_load.v0+json": "(function(root) {\n  function now() {\n    return new Date();\n  }\n\n  const force = true;\n\n  if (typeof root._bokeh_onload_callbacks === \"undefined\" || force === true) {\n    root._bokeh_onload_callbacks = [];\n    root._bokeh_is_loading = undefined;\n  }\n\n\n  if (typeof (root._bokeh_timeout) === \"undefined\" || force === true) {\n    root._bokeh_timeout = Date.now() + 5000;\n    root._bokeh_failed_load = false;\n  }\n\n  const NB_LOAD_WARNING = {'data': {'text/html':\n     \"<div style='background-color: #fdd'>\\n\"+\n     \"<p>\\n\"+\n     \"BokehJS does not appear to have successfully loaded. If loading BokehJS from CDN, this \\n\"+\n     \"may be due to a slow or bad network connection. Possible fixes:\\n\"+\n     \"</p>\\n\"+\n     \"<ul>\\n\"+\n     \"<li>re-rerun `output_notebook()` to attempt to load from CDN again, or</li>\\n\"+\n     \"<li>use INLINE resources instead, as so:</li>\\n\"+\n     \"</ul>\\n\"+\n     \"<code>\\n\"+\n     \"from bokeh.resources import INLINE\\n\"+\n     \"output_notebook(resources=INLINE)\\n\"+\n     \"</code>\\n\"+\n     \"</div>\"}};\n\n  function display_loaded() {\n    const el = document.getElementById(\"e8d5ad64-4d66-43f8-8991-f345e6d0258d\");\n    if (el != null) {\n      el.textContent = \"BokehJS is loading...\";\n    }\n    if (root.Bokeh !== undefined) {\n      if (el != null) {\n        el.textContent = \"BokehJS \" + root.Bokeh.version + \" successfully loaded.\";\n      }\n    } else if (Date.now() < root._bokeh_timeout) {\n      setTimeout(display_loaded, 100)\n    }\n  }\n\n  function run_callbacks() {\n    try {\n      root._bokeh_onload_callbacks.forEach(function(callback) {\n        if (callback != null)\n          callback();\n      });\n    } finally {\n      delete root._bokeh_onload_callbacks\n    }\n    console.debug(\"Bokeh: all callbacks have finished\");\n  }\n\n  function load_libs(css_urls, js_urls, callback) {\n    if (css_urls == null) css_urls = [];\n    if (js_urls == null) js_urls = [];\n\n    root._bokeh_onload_callbacks.push(callback);\n    if (root._bokeh_is_loading > 0) {\n      console.debug(\"Bokeh: BokehJS is being loaded, scheduling callback at\", now());\n      return null;\n    }\n    if (js_urls == null || js_urls.length === 0) {\n      run_callbacks();\n      return null;\n    }\n    console.debug(\"Bokeh: BokehJS not loaded, scheduling load and callback at\", now());\n    root._bokeh_is_loading = css_urls.length + js_urls.length;\n\n    function on_load() {\n      root._bokeh_is_loading--;\n      if (root._bokeh_is_loading === 0) {\n        console.debug(\"Bokeh: all BokehJS libraries/stylesheets loaded\");\n        run_callbacks()\n      }\n    }\n\n    function on_error(url) {\n      console.error(\"failed to load \" + url);\n    }\n\n    for (let i = 0; i < css_urls.length; i++) {\n      const url = css_urls[i];\n      const element = document.createElement(\"link\");\n      element.onload = on_load;\n      element.onerror = on_error.bind(null, url);\n      element.rel = \"stylesheet\";\n      element.type = \"text/css\";\n      element.href = url;\n      console.debug(\"Bokeh: injecting link tag for BokehJS stylesheet: \", url);\n      document.body.appendChild(element);\n    }\n\n    for (let i = 0; i < js_urls.length; i++) {\n      const url = js_urls[i];\n      const element = document.createElement('script');\n      element.onload = on_load;\n      element.onerror = on_error.bind(null, url);\n      element.async = false;\n      element.src = url;\n      console.debug(\"Bokeh: injecting script tag for BokehJS library: \", url);\n      document.head.appendChild(element);\n    }\n  };\n\n  function inject_raw_css(css) {\n    const element = document.createElement(\"style\");\n    element.appendChild(document.createTextNode(css));\n    document.body.appendChild(element);\n  }\n\n  const js_urls = [\"https://cdn.bokeh.org/bokeh/release/bokeh-3.2.1.min.js\", \"https://cdn.bokeh.org/bokeh/release/bokeh-gl-3.2.1.min.js\", \"https://cdn.bokeh.org/bokeh/release/bokeh-widgets-3.2.1.min.js\", \"https://cdn.bokeh.org/bokeh/release/bokeh-tables-3.2.1.min.js\", \"https://cdn.bokeh.org/bokeh/release/bokeh-mathjax-3.2.1.min.js\"];\n  const css_urls = [];\n\n  const inline_js = [    function(Bokeh) {\n      Bokeh.set_log_level(\"info\");\n    },\nfunction(Bokeh) {\n    }\n  ];\n\n  function run_inline_js() {\n    if (root.Bokeh !== undefined || force === true) {\n          for (let i = 0; i < inline_js.length; i++) {\n      inline_js[i].call(root, root.Bokeh);\n    }\nif (force === true) {\n        display_loaded();\n      }} else if (Date.now() < root._bokeh_timeout) {\n      setTimeout(run_inline_js, 100);\n    } else if (!root._bokeh_failed_load) {\n      console.log(\"Bokeh: BokehJS failed to load within specified timeout.\");\n      root._bokeh_failed_load = true;\n    } else if (force !== true) {\n      const cell = $(document.getElementById(\"e8d5ad64-4d66-43f8-8991-f345e6d0258d\")).parents('.cell').data().cell;\n      cell.output_area.append_execute_result(NB_LOAD_WARNING)\n    }\n  }\n\n  if (root._bokeh_is_loading === 0) {\n    console.debug(\"Bokeh: BokehJS loaded, going straight to plotting\");\n    run_inline_js();\n  } else {\n    load_libs(css_urls, js_urls, function() {\n      console.debug(\"Bokeh: BokehJS plotting callback run at\", now());\n      run_inline_js();\n    });\n  }\n}(window));"
     },
     "metadata": {},
     "output_type": "display_data"
    },
    {
     "data": {
      "application/vnd.plotly.v1+json": {
       "config": {
        "plotlyServerURL": "https://plot.ly"
       },
       "data": [
        {
         "lat": [
          41.8829,
          41.8713,
          41.8721,
          41.8515,
          41.8097,
          41.9033,
          41.8805,
          41.9543,
          41.9229,
          41.8022,
          41.8426,
          41.7257,
          41.9464,
          41.7458,
          41.7411,
          41.775,
          41.9019,
          41.849,
          41.8804,
          41.9703,
          42.0095,
          41.6934,
          41.7781,
          41.9951,
          41.8093,
          41.9463,
          41.776,
          41.7813,
          41.7814,
          41.9202,
          41.9719,
          41.9453,
          41.9008,
          41.6996,
          41.8829,
          42.0086,
          41.9209,
          41.762,
          41.9025,
          41.7454,
          41.8196,
          41.6948,
          41.9972,
          41.9909,
          41.6496
         ],
         "lon": [
          -87.6321,
          -87.6277,
          -87.6578,
          -87.6694,
          -87.6533,
          -87.6336,
          -87.6873,
          -87.6575,
          -87.6483,
          -87.6006,
          -87.6306,
          -87.556,
          -87.7042,
          -87.6054,
          -87.6543,
          -87.6421,
          -87.6779,
          -87.7157,
          -87.7223,
          -87.7042,
          -87.6689,
          -87.6243,
          -87.7069,
          -87.8082,
          -87.7052,
          -87.8061,
          -87.6674,
          -87.6051,
          -87.7705,
          -87.7535,
          -87.6624,
          -87.7474,
          -87.6528,
          -87.6628,
          -87.7582,
          -87.6947,
          -87.7043,
          -87.5703,
          -87.7393,
          -87.7135,
          -87.6126,
          -87.7038,
          -87.7166,
          -87.6629,
          -87.6301
         ],
         "marker": {
          "color": [
           47.7,
           88.3,
           88.3,
           37.285714285714285,
           48.400000000000006,
           84.25,
           44.5,
           66.9,
           81.8,
           58.625,
           34.32,
           45.583333333333336,
           50.1,
           40.13333333333333,
           43.333333333333336,
           41.03333333333333,
           38.760000000000005,
           52.05555555555556,
           54.2,
           73.95,
           61.7,
           45.31666666666666,
           42.65,
           49.15,
           58.58571428571429,
           58.1,
           48.35,
           42.56666666666666,
           72,
           67.22,
           55.1,
           46.9,
           81.625,
           38.2,
           28.35,
           57.7,
           61,
           41.2,
           25.166666666666668,
           45.4,
           56.56,
           67.1,
           68,
           69.2,
           50.8
          ]
         },
         "mode": "markers",
         "text": [
          47.7,
          88.3,
          88.3,
          37.285714285714285,
          48.400000000000006,
          84.25,
          44.5,
          66.9,
          81.8,
          58.625,
          34.32,
          45.583333333333336,
          50.1,
          40.13333333333333,
          43.333333333333336,
          41.03333333333333,
          38.760000000000005,
          52.05555555555556,
          54.2,
          73.95,
          61.7,
          45.31666666666666,
          42.65,
          49.15,
          58.58571428571429,
          58.1,
          48.35,
          42.56666666666666,
          72,
          67.22,
          55.1,
          46.9,
          81.625,
          38.2,
          28.35,
          57.7,
          61,
          41.2,
          25.166666666666668,
          45.4,
          56.56,
          67.1,
          68,
          69.2,
          50.8
         ],
         "type": "scattergeo"
        }
       ],
       "layout": {
        "geo": {
         "scope": "usa"
        },
        "template": {
         "data": {
          "bar": [
           {
            "error_x": {
             "color": "#2a3f5f"
            },
            "error_y": {
             "color": "#2a3f5f"
            },
            "marker": {
             "line": {
              "color": "#E5ECF6",
              "width": 0.5
             },
             "pattern": {
              "fillmode": "overlay",
              "size": 10,
              "solidity": 0.2
             }
            },
            "type": "bar"
           }
          ],
          "barpolar": [
           {
            "marker": {
             "line": {
              "color": "#E5ECF6",
              "width": 0.5
             },
             "pattern": {
              "fillmode": "overlay",
              "size": 10,
              "solidity": 0.2
             }
            },
            "type": "barpolar"
           }
          ],
          "carpet": [
           {
            "aaxis": {
             "endlinecolor": "#2a3f5f",
             "gridcolor": "white",
             "linecolor": "white",
             "minorgridcolor": "white",
             "startlinecolor": "#2a3f5f"
            },
            "baxis": {
             "endlinecolor": "#2a3f5f",
             "gridcolor": "white",
             "linecolor": "white",
             "minorgridcolor": "white",
             "startlinecolor": "#2a3f5f"
            },
            "type": "carpet"
           }
          ],
          "choropleth": [
           {
            "colorbar": {
             "outlinewidth": 0,
             "ticks": ""
            },
            "type": "choropleth"
           }
          ],
          "contour": [
           {
            "colorbar": {
             "outlinewidth": 0,
             "ticks": ""
            },
            "colorscale": [
             [
              0,
              "#0d0887"
             ],
             [
              0.1111111111111111,
              "#46039f"
             ],
             [
              0.2222222222222222,
              "#7201a8"
             ],
             [
              0.3333333333333333,
              "#9c179e"
             ],
             [
              0.4444444444444444,
              "#bd3786"
             ],
             [
              0.5555555555555556,
              "#d8576b"
             ],
             [
              0.6666666666666666,
              "#ed7953"
             ],
             [
              0.7777777777777778,
              "#fb9f3a"
             ],
             [
              0.8888888888888888,
              "#fdca26"
             ],
             [
              1,
              "#f0f921"
             ]
            ],
            "type": "contour"
           }
          ],
          "contourcarpet": [
           {
            "colorbar": {
             "outlinewidth": 0,
             "ticks": ""
            },
            "type": "contourcarpet"
           }
          ],
          "heatmap": [
           {
            "colorbar": {
             "outlinewidth": 0,
             "ticks": ""
            },
            "colorscale": [
             [
              0,
              "#0d0887"
             ],
             [
              0.1111111111111111,
              "#46039f"
             ],
             [
              0.2222222222222222,
              "#7201a8"
             ],
             [
              0.3333333333333333,
              "#9c179e"
             ],
             [
              0.4444444444444444,
              "#bd3786"
             ],
             [
              0.5555555555555556,
              "#d8576b"
             ],
             [
              0.6666666666666666,
              "#ed7953"
             ],
             [
              0.7777777777777778,
              "#fb9f3a"
             ],
             [
              0.8888888888888888,
              "#fdca26"
             ],
             [
              1,
              "#f0f921"
             ]
            ],
            "type": "heatmap"
           }
          ],
          "heatmapgl": [
           {
            "colorbar": {
             "outlinewidth": 0,
             "ticks": ""
            },
            "colorscale": [
             [
              0,
              "#0d0887"
             ],
             [
              0.1111111111111111,
              "#46039f"
             ],
             [
              0.2222222222222222,
              "#7201a8"
             ],
             [
              0.3333333333333333,
              "#9c179e"
             ],
             [
              0.4444444444444444,
              "#bd3786"
             ],
             [
              0.5555555555555556,
              "#d8576b"
             ],
             [
              0.6666666666666666,
              "#ed7953"
             ],
             [
              0.7777777777777778,
              "#fb9f3a"
             ],
             [
              0.8888888888888888,
              "#fdca26"
             ],
             [
              1,
              "#f0f921"
             ]
            ],
            "type": "heatmapgl"
           }
          ],
          "histogram": [
           {
            "marker": {
             "pattern": {
              "fillmode": "overlay",
              "size": 10,
              "solidity": 0.2
             }
            },
            "type": "histogram"
           }
          ],
          "histogram2d": [
           {
            "colorbar": {
             "outlinewidth": 0,
             "ticks": ""
            },
            "colorscale": [
             [
              0,
              "#0d0887"
             ],
             [
              0.1111111111111111,
              "#46039f"
             ],
             [
              0.2222222222222222,
              "#7201a8"
             ],
             [
              0.3333333333333333,
              "#9c179e"
             ],
             [
              0.4444444444444444,
              "#bd3786"
             ],
             [
              0.5555555555555556,
              "#d8576b"
             ],
             [
              0.6666666666666666,
              "#ed7953"
             ],
             [
              0.7777777777777778,
              "#fb9f3a"
             ],
             [
              0.8888888888888888,
              "#fdca26"
             ],
             [
              1,
              "#f0f921"
             ]
            ],
            "type": "histogram2d"
           }
          ],
          "histogram2dcontour": [
           {
            "colorbar": {
             "outlinewidth": 0,
             "ticks": ""
            },
            "colorscale": [
             [
              0,
              "#0d0887"
             ],
             [
              0.1111111111111111,
              "#46039f"
             ],
             [
              0.2222222222222222,
              "#7201a8"
             ],
             [
              0.3333333333333333,
              "#9c179e"
             ],
             [
              0.4444444444444444,
              "#bd3786"
             ],
             [
              0.5555555555555556,
              "#d8576b"
             ],
             [
              0.6666666666666666,
              "#ed7953"
             ],
             [
              0.7777777777777778,
              "#fb9f3a"
             ],
             [
              0.8888888888888888,
              "#fdca26"
             ],
             [
              1,
              "#f0f921"
             ]
            ],
            "type": "histogram2dcontour"
           }
          ],
          "mesh3d": [
           {
            "colorbar": {
             "outlinewidth": 0,
             "ticks": ""
            },
            "type": "mesh3d"
           }
          ],
          "parcoords": [
           {
            "line": {
             "colorbar": {
              "outlinewidth": 0,
              "ticks": ""
             }
            },
            "type": "parcoords"
           }
          ],
          "pie": [
           {
            "automargin": true,
            "type": "pie"
           }
          ],
          "scatter": [
           {
            "fillpattern": {
             "fillmode": "overlay",
             "size": 10,
             "solidity": 0.2
            },
            "type": "scatter"
           }
          ],
          "scatter3d": [
           {
            "line": {
             "colorbar": {
              "outlinewidth": 0,
              "ticks": ""
             }
            },
            "marker": {
             "colorbar": {
              "outlinewidth": 0,
              "ticks": ""
             }
            },
            "type": "scatter3d"
           }
          ],
          "scattercarpet": [
           {
            "marker": {
             "colorbar": {
              "outlinewidth": 0,
              "ticks": ""
             }
            },
            "type": "scattercarpet"
           }
          ],
          "scattergeo": [
           {
            "marker": {
             "colorbar": {
              "outlinewidth": 0,
              "ticks": ""
             }
            },
            "type": "scattergeo"
           }
          ],
          "scattergl": [
           {
            "marker": {
             "colorbar": {
              "outlinewidth": 0,
              "ticks": ""
             }
            },
            "type": "scattergl"
           }
          ],
          "scattermapbox": [
           {
            "marker": {
             "colorbar": {
              "outlinewidth": 0,
              "ticks": ""
             }
            },
            "type": "scattermapbox"
           }
          ],
          "scatterpolar": [
           {
            "marker": {
             "colorbar": {
              "outlinewidth": 0,
              "ticks": ""
             }
            },
            "type": "scatterpolar"
           }
          ],
          "scatterpolargl": [
           {
            "marker": {
             "colorbar": {
              "outlinewidth": 0,
              "ticks": ""
             }
            },
            "type": "scatterpolargl"
           }
          ],
          "scatterternary": [
           {
            "marker": {
             "colorbar": {
              "outlinewidth": 0,
              "ticks": ""
             }
            },
            "type": "scatterternary"
           }
          ],
          "surface": [
           {
            "colorbar": {
             "outlinewidth": 0,
             "ticks": ""
            },
            "colorscale": [
             [
              0,
              "#0d0887"
             ],
             [
              0.1111111111111111,
              "#46039f"
             ],
             [
              0.2222222222222222,
              "#7201a8"
             ],
             [
              0.3333333333333333,
              "#9c179e"
             ],
             [
              0.4444444444444444,
              "#bd3786"
             ],
             [
              0.5555555555555556,
              "#d8576b"
             ],
             [
              0.6666666666666666,
              "#ed7953"
             ],
             [
              0.7777777777777778,
              "#fb9f3a"
             ],
             [
              0.8888888888888888,
              "#fdca26"
             ],
             [
              1,
              "#f0f921"
             ]
            ],
            "type": "surface"
           }
          ],
          "table": [
           {
            "cells": {
             "fill": {
              "color": "#EBF0F8"
             },
             "line": {
              "color": "white"
             }
            },
            "header": {
             "fill": {
              "color": "#C8D4E3"
             },
             "line": {
              "color": "white"
             }
            },
            "type": "table"
           }
          ]
         },
         "layout": {
          "annotationdefaults": {
           "arrowcolor": "#2a3f5f",
           "arrowhead": 0,
           "arrowwidth": 1
          },
          "autotypenumbers": "strict",
          "coloraxis": {
           "colorbar": {
            "outlinewidth": 0,
            "ticks": ""
           }
          },
          "colorscale": {
           "diverging": [
            [
             0,
             "#8e0152"
            ],
            [
             0.1,
             "#c51b7d"
            ],
            [
             0.2,
             "#de77ae"
            ],
            [
             0.3,
             "#f1b6da"
            ],
            [
             0.4,
             "#fde0ef"
            ],
            [
             0.5,
             "#f7f7f7"
            ],
            [
             0.6,
             "#e6f5d0"
            ],
            [
             0.7,
             "#b8e186"
            ],
            [
             0.8,
             "#7fbc41"
            ],
            [
             0.9,
             "#4d9221"
            ],
            [
             1,
             "#276419"
            ]
           ],
           "sequential": [
            [
             0,
             "#0d0887"
            ],
            [
             0.1111111111111111,
             "#46039f"
            ],
            [
             0.2222222222222222,
             "#7201a8"
            ],
            [
             0.3333333333333333,
             "#9c179e"
            ],
            [
             0.4444444444444444,
             "#bd3786"
            ],
            [
             0.5555555555555556,
             "#d8576b"
            ],
            [
             0.6666666666666666,
             "#ed7953"
            ],
            [
             0.7777777777777778,
             "#fb9f3a"
            ],
            [
             0.8888888888888888,
             "#fdca26"
            ],
            [
             1,
             "#f0f921"
            ]
           ],
           "sequentialminus": [
            [
             0,
             "#0d0887"
            ],
            [
             0.1111111111111111,
             "#46039f"
            ],
            [
             0.2222222222222222,
             "#7201a8"
            ],
            [
             0.3333333333333333,
             "#9c179e"
            ],
            [
             0.4444444444444444,
             "#bd3786"
            ],
            [
             0.5555555555555556,
             "#d8576b"
            ],
            [
             0.6666666666666666,
             "#ed7953"
            ],
            [
             0.7777777777777778,
             "#fb9f3a"
            ],
            [
             0.8888888888888888,
             "#fdca26"
            ],
            [
             1,
             "#f0f921"
            ]
           ]
          },
          "colorway": [
           "#636efa",
           "#EF553B",
           "#00cc96",
           "#ab63fa",
           "#FFA15A",
           "#19d3f3",
           "#FF6692",
           "#B6E880",
           "#FF97FF",
           "#FECB52"
          ],
          "font": {
           "color": "#2a3f5f"
          },
          "geo": {
           "bgcolor": "white",
           "lakecolor": "white",
           "landcolor": "#E5ECF6",
           "showlakes": true,
           "showland": true,
           "subunitcolor": "white"
          },
          "hoverlabel": {
           "align": "left"
          },
          "hovermode": "closest",
          "mapbox": {
           "style": "light"
          },
          "paper_bgcolor": "white",
          "plot_bgcolor": "#E5ECF6",
          "polar": {
           "angularaxis": {
            "gridcolor": "white",
            "linecolor": "white",
            "ticks": ""
           },
           "bgcolor": "#E5ECF6",
           "radialaxis": {
            "gridcolor": "white",
            "linecolor": "white",
            "ticks": ""
           }
          },
          "scene": {
           "xaxis": {
            "backgroundcolor": "#E5ECF6",
            "gridcolor": "white",
            "gridwidth": 2,
            "linecolor": "white",
            "showbackground": true,
            "ticks": "",
            "zerolinecolor": "white"
           },
           "yaxis": {
            "backgroundcolor": "#E5ECF6",
            "gridcolor": "white",
            "gridwidth": 2,
            "linecolor": "white",
            "showbackground": true,
            "ticks": "",
            "zerolinecolor": "white"
           },
           "zaxis": {
            "backgroundcolor": "#E5ECF6",
            "gridcolor": "white",
            "gridwidth": 2,
            "linecolor": "white",
            "showbackground": true,
            "ticks": "",
            "zerolinecolor": "white"
           }
          },
          "shapedefaults": {
           "line": {
            "color": "#2a3f5f"
           }
          },
          "ternary": {
           "aaxis": {
            "gridcolor": "white",
            "linecolor": "white",
            "ticks": ""
           },
           "baxis": {
            "gridcolor": "white",
            "linecolor": "white",
            "ticks": ""
           },
           "bgcolor": "#E5ECF6",
           "caxis": {
            "gridcolor": "white",
            "linecolor": "white",
            "ticks": ""
           }
          },
          "title": {
           "x": 0.05
          },
          "xaxis": {
           "automargin": true,
           "gridcolor": "white",
           "linecolor": "white",
           "ticks": "",
           "title": {
            "standoff": 15
           },
           "zerolinecolor": "white",
           "zerolinewidth": 2
          },
          "yaxis": {
           "automargin": true,
           "gridcolor": "white",
           "linecolor": "white",
           "ticks": "",
           "title": {
            "standoff": 15
           },
           "zerolinecolor": "white",
           "zerolinewidth": 2
          }
         }
        },
        "title": {
         "text": "College Enrollment Rate by Zip"
        }
       }
      },
      "text/html": [
       "<div>                            <div id=\"e283bf63-aee9-4e74-ba02-a01fec736460\" class=\"plotly-graph-div\" style=\"height:525px; width:100%;\"></div>            <script type=\"text/javascript\">                require([\"plotly\"], function(Plotly) {                    window.PLOTLYENV=window.PLOTLYENV || {};                                    if (document.getElementById(\"e283bf63-aee9-4e74-ba02-a01fec736460\")) {                    Plotly.newPlot(                        \"e283bf63-aee9-4e74-ba02-a01fec736460\",                        [{\"lat\":[41.8829,41.8713,41.8721,41.8515,41.8097,41.9033,41.8805,41.9543,41.9229,41.8022,41.8426,41.7257,41.9464,41.7458,41.7411,41.775,41.9019,41.849,41.8804,41.9703,42.0095,41.6934,41.7781,41.9951,41.8093,41.9463,41.776,41.7813,41.7814,41.9202,41.9719,41.9453,41.9008,41.6996,41.8829,42.0086,41.9209,41.762,41.9025,41.7454,41.8196,41.6948,41.9972,41.9909,41.6496],\"lon\":[-87.6321,-87.6277,-87.6578,-87.6694,-87.6533,-87.6336,-87.6873,-87.6575,-87.6483,-87.6006,-87.6306,-87.556,-87.7042,-87.6054,-87.6543,-87.6421,-87.6779,-87.7157,-87.7223,-87.7042,-87.6689,-87.6243,-87.7069,-87.8082,-87.7052,-87.8061,-87.6674,-87.6051,-87.7705,-87.7535,-87.6624,-87.7474,-87.6528,-87.6628,-87.7582,-87.6947,-87.7043,-87.5703,-87.7393,-87.7135,-87.6126,-87.7038,-87.7166,-87.6629,-87.6301],\"marker\":{\"color\":[47.7,88.3,88.3,37.285714285714285,48.400000000000006,84.25,44.5,66.9,81.8,58.625,34.32,45.583333333333336,50.1,40.13333333333333,43.333333333333336,41.03333333333333,38.760000000000005,52.05555555555556,54.2,73.95,61.7,45.31666666666666,42.65,49.15,58.58571428571429,58.1,48.35,42.56666666666666,72.0,67.22,55.1,46.9,81.625,38.2,28.35,57.7,61.0,41.2,25.166666666666668,45.4,56.56,67.1,68.0,69.2,50.8]},\"mode\":\"markers\",\"text\":[47.7,88.3,88.3,37.285714285714285,48.400000000000006,84.25,44.5,66.9,81.8,58.625,34.32,45.583333333333336,50.1,40.13333333333333,43.333333333333336,41.03333333333333,38.760000000000005,52.05555555555556,54.2,73.95,61.7,45.31666666666666,42.65,49.15,58.58571428571429,58.1,48.35,42.56666666666666,72.0,67.22,55.1,46.9,81.625,38.2,28.35,57.7,61.0,41.2,25.166666666666668,45.4,56.56,67.1,68.0,69.2,50.8],\"type\":\"scattergeo\"}],                        {\"template\":{\"data\":{\"histogram2dcontour\":[{\"type\":\"histogram2dcontour\",\"colorbar\":{\"outlinewidth\":0,\"ticks\":\"\"},\"colorscale\":[[0.0,\"#0d0887\"],[0.1111111111111111,\"#46039f\"],[0.2222222222222222,\"#7201a8\"],[0.3333333333333333,\"#9c179e\"],[0.4444444444444444,\"#bd3786\"],[0.5555555555555556,\"#d8576b\"],[0.6666666666666666,\"#ed7953\"],[0.7777777777777778,\"#fb9f3a\"],[0.8888888888888888,\"#fdca26\"],[1.0,\"#f0f921\"]]}],\"choropleth\":[{\"type\":\"choropleth\",\"colorbar\":{\"outlinewidth\":0,\"ticks\":\"\"}}],\"histogram2d\":[{\"type\":\"histogram2d\",\"colorbar\":{\"outlinewidth\":0,\"ticks\":\"\"},\"colorscale\":[[0.0,\"#0d0887\"],[0.1111111111111111,\"#46039f\"],[0.2222222222222222,\"#7201a8\"],[0.3333333333333333,\"#9c179e\"],[0.4444444444444444,\"#bd3786\"],[0.5555555555555556,\"#d8576b\"],[0.6666666666666666,\"#ed7953\"],[0.7777777777777778,\"#fb9f3a\"],[0.8888888888888888,\"#fdca26\"],[1.0,\"#f0f921\"]]}],\"heatmap\":[{\"type\":\"heatmap\",\"colorbar\":{\"outlinewidth\":0,\"ticks\":\"\"},\"colorscale\":[[0.0,\"#0d0887\"],[0.1111111111111111,\"#46039f\"],[0.2222222222222222,\"#7201a8\"],[0.3333333333333333,\"#9c179e\"],[0.4444444444444444,\"#bd3786\"],[0.5555555555555556,\"#d8576b\"],[0.6666666666666666,\"#ed7953\"],[0.7777777777777778,\"#fb9f3a\"],[0.8888888888888888,\"#fdca26\"],[1.0,\"#f0f921\"]]}],\"heatmapgl\":[{\"type\":\"heatmapgl\",\"colorbar\":{\"outlinewidth\":0,\"ticks\":\"\"},\"colorscale\":[[0.0,\"#0d0887\"],[0.1111111111111111,\"#46039f\"],[0.2222222222222222,\"#7201a8\"],[0.3333333333333333,\"#9c179e\"],[0.4444444444444444,\"#bd3786\"],[0.5555555555555556,\"#d8576b\"],[0.6666666666666666,\"#ed7953\"],[0.7777777777777778,\"#fb9f3a\"],[0.8888888888888888,\"#fdca26\"],[1.0,\"#f0f921\"]]}],\"contourcarpet\":[{\"type\":\"contourcarpet\",\"colorbar\":{\"outlinewidth\":0,\"ticks\":\"\"}}],\"contour\":[{\"type\":\"contour\",\"colorbar\":{\"outlinewidth\":0,\"ticks\":\"\"},\"colorscale\":[[0.0,\"#0d0887\"],[0.1111111111111111,\"#46039f\"],[0.2222222222222222,\"#7201a8\"],[0.3333333333333333,\"#9c179e\"],[0.4444444444444444,\"#bd3786\"],[0.5555555555555556,\"#d8576b\"],[0.6666666666666666,\"#ed7953\"],[0.7777777777777778,\"#fb9f3a\"],[0.8888888888888888,\"#fdca26\"],[1.0,\"#f0f921\"]]}],\"surface\":[{\"type\":\"surface\",\"colorbar\":{\"outlinewidth\":0,\"ticks\":\"\"},\"colorscale\":[[0.0,\"#0d0887\"],[0.1111111111111111,\"#46039f\"],[0.2222222222222222,\"#7201a8\"],[0.3333333333333333,\"#9c179e\"],[0.4444444444444444,\"#bd3786\"],[0.5555555555555556,\"#d8576b\"],[0.6666666666666666,\"#ed7953\"],[0.7777777777777778,\"#fb9f3a\"],[0.8888888888888888,\"#fdca26\"],[1.0,\"#f0f921\"]]}],\"mesh3d\":[{\"type\":\"mesh3d\",\"colorbar\":{\"outlinewidth\":0,\"ticks\":\"\"}}],\"scatter\":[{\"fillpattern\":{\"fillmode\":\"overlay\",\"size\":10,\"solidity\":0.2},\"type\":\"scatter\"}],\"parcoords\":[{\"type\":\"parcoords\",\"line\":{\"colorbar\":{\"outlinewidth\":0,\"ticks\":\"\"}}}],\"scatterpolargl\":[{\"type\":\"scatterpolargl\",\"marker\":{\"colorbar\":{\"outlinewidth\":0,\"ticks\":\"\"}}}],\"bar\":[{\"error_x\":{\"color\":\"#2a3f5f\"},\"error_y\":{\"color\":\"#2a3f5f\"},\"marker\":{\"line\":{\"color\":\"#E5ECF6\",\"width\":0.5},\"pattern\":{\"fillmode\":\"overlay\",\"size\":10,\"solidity\":0.2}},\"type\":\"bar\"}],\"scattergeo\":[{\"type\":\"scattergeo\",\"marker\":{\"colorbar\":{\"outlinewidth\":0,\"ticks\":\"\"}}}],\"scatterpolar\":[{\"type\":\"scatterpolar\",\"marker\":{\"colorbar\":{\"outlinewidth\":0,\"ticks\":\"\"}}}],\"histogram\":[{\"marker\":{\"pattern\":{\"fillmode\":\"overlay\",\"size\":10,\"solidity\":0.2}},\"type\":\"histogram\"}],\"scattergl\":[{\"type\":\"scattergl\",\"marker\":{\"colorbar\":{\"outlinewidth\":0,\"ticks\":\"\"}}}],\"scatter3d\":[{\"type\":\"scatter3d\",\"line\":{\"colorbar\":{\"outlinewidth\":0,\"ticks\":\"\"}},\"marker\":{\"colorbar\":{\"outlinewidth\":0,\"ticks\":\"\"}}}],\"scattermapbox\":[{\"type\":\"scattermapbox\",\"marker\":{\"colorbar\":{\"outlinewidth\":0,\"ticks\":\"\"}}}],\"scatterternary\":[{\"type\":\"scatterternary\",\"marker\":{\"colorbar\":{\"outlinewidth\":0,\"ticks\":\"\"}}}],\"scattercarpet\":[{\"type\":\"scattercarpet\",\"marker\":{\"colorbar\":{\"outlinewidth\":0,\"ticks\":\"\"}}}],\"carpet\":[{\"aaxis\":{\"endlinecolor\":\"#2a3f5f\",\"gridcolor\":\"white\",\"linecolor\":\"white\",\"minorgridcolor\":\"white\",\"startlinecolor\":\"#2a3f5f\"},\"baxis\":{\"endlinecolor\":\"#2a3f5f\",\"gridcolor\":\"white\",\"linecolor\":\"white\",\"minorgridcolor\":\"white\",\"startlinecolor\":\"#2a3f5f\"},\"type\":\"carpet\"}],\"table\":[{\"cells\":{\"fill\":{\"color\":\"#EBF0F8\"},\"line\":{\"color\":\"white\"}},\"header\":{\"fill\":{\"color\":\"#C8D4E3\"},\"line\":{\"color\":\"white\"}},\"type\":\"table\"}],\"barpolar\":[{\"marker\":{\"line\":{\"color\":\"#E5ECF6\",\"width\":0.5},\"pattern\":{\"fillmode\":\"overlay\",\"size\":10,\"solidity\":0.2}},\"type\":\"barpolar\"}],\"pie\":[{\"automargin\":true,\"type\":\"pie\"}]},\"layout\":{\"autotypenumbers\":\"strict\",\"colorway\":[\"#636efa\",\"#EF553B\",\"#00cc96\",\"#ab63fa\",\"#FFA15A\",\"#19d3f3\",\"#FF6692\",\"#B6E880\",\"#FF97FF\",\"#FECB52\"],\"font\":{\"color\":\"#2a3f5f\"},\"hovermode\":\"closest\",\"hoverlabel\":{\"align\":\"left\"},\"paper_bgcolor\":\"white\",\"plot_bgcolor\":\"#E5ECF6\",\"polar\":{\"bgcolor\":\"#E5ECF6\",\"angularaxis\":{\"gridcolor\":\"white\",\"linecolor\":\"white\",\"ticks\":\"\"},\"radialaxis\":{\"gridcolor\":\"white\",\"linecolor\":\"white\",\"ticks\":\"\"}},\"ternary\":{\"bgcolor\":\"#E5ECF6\",\"aaxis\":{\"gridcolor\":\"white\",\"linecolor\":\"white\",\"ticks\":\"\"},\"baxis\":{\"gridcolor\":\"white\",\"linecolor\":\"white\",\"ticks\":\"\"},\"caxis\":{\"gridcolor\":\"white\",\"linecolor\":\"white\",\"ticks\":\"\"}},\"coloraxis\":{\"colorbar\":{\"outlinewidth\":0,\"ticks\":\"\"}},\"colorscale\":{\"sequential\":[[0.0,\"#0d0887\"],[0.1111111111111111,\"#46039f\"],[0.2222222222222222,\"#7201a8\"],[0.3333333333333333,\"#9c179e\"],[0.4444444444444444,\"#bd3786\"],[0.5555555555555556,\"#d8576b\"],[0.6666666666666666,\"#ed7953\"],[0.7777777777777778,\"#fb9f3a\"],[0.8888888888888888,\"#fdca26\"],[1.0,\"#f0f921\"]],\"sequentialminus\":[[0.0,\"#0d0887\"],[0.1111111111111111,\"#46039f\"],[0.2222222222222222,\"#7201a8\"],[0.3333333333333333,\"#9c179e\"],[0.4444444444444444,\"#bd3786\"],[0.5555555555555556,\"#d8576b\"],[0.6666666666666666,\"#ed7953\"],[0.7777777777777778,\"#fb9f3a\"],[0.8888888888888888,\"#fdca26\"],[1.0,\"#f0f921\"]],\"diverging\":[[0,\"#8e0152\"],[0.1,\"#c51b7d\"],[0.2,\"#de77ae\"],[0.3,\"#f1b6da\"],[0.4,\"#fde0ef\"],[0.5,\"#f7f7f7\"],[0.6,\"#e6f5d0\"],[0.7,\"#b8e186\"],[0.8,\"#7fbc41\"],[0.9,\"#4d9221\"],[1,\"#276419\"]]},\"xaxis\":{\"gridcolor\":\"white\",\"linecolor\":\"white\",\"ticks\":\"\",\"title\":{\"standoff\":15},\"zerolinecolor\":\"white\",\"automargin\":true,\"zerolinewidth\":2},\"yaxis\":{\"gridcolor\":\"white\",\"linecolor\":\"white\",\"ticks\":\"\",\"title\":{\"standoff\":15},\"zerolinecolor\":\"white\",\"automargin\":true,\"zerolinewidth\":2},\"scene\":{\"xaxis\":{\"backgroundcolor\":\"#E5ECF6\",\"gridcolor\":\"white\",\"linecolor\":\"white\",\"showbackground\":true,\"ticks\":\"\",\"zerolinecolor\":\"white\",\"gridwidth\":2},\"yaxis\":{\"backgroundcolor\":\"#E5ECF6\",\"gridcolor\":\"white\",\"linecolor\":\"white\",\"showbackground\":true,\"ticks\":\"\",\"zerolinecolor\":\"white\",\"gridwidth\":2},\"zaxis\":{\"backgroundcolor\":\"#E5ECF6\",\"gridcolor\":\"white\",\"linecolor\":\"white\",\"showbackground\":true,\"ticks\":\"\",\"zerolinecolor\":\"white\",\"gridwidth\":2}},\"shapedefaults\":{\"line\":{\"color\":\"#2a3f5f\"}},\"annotationdefaults\":{\"arrowcolor\":\"#2a3f5f\",\"arrowhead\":0,\"arrowwidth\":1},\"geo\":{\"bgcolor\":\"white\",\"landcolor\":\"#E5ECF6\",\"subunitcolor\":\"white\",\"showland\":true,\"showlakes\":true,\"lakecolor\":\"white\"},\"title\":{\"x\":0.05},\"mapbox\":{\"style\":\"light\"}}},\"geo\":{\"scope\":\"usa\"},\"title\":{\"text\":\"College Enrollment Rate by Zip\"}},                        {\"responsive\": true}                    ).then(function(){\n",
       "                            \n",
       "var gd = document.getElementById('e283bf63-aee9-4e74-ba02-a01fec736460');\n",
       "var x = new MutationObserver(function (mutations, observer) {{\n",
       "        var display = window.getComputedStyle(gd).display;\n",
       "        if (!display || display === 'none') {{\n",
       "            console.log([gd, 'removed!']);\n",
       "            Plotly.purge(gd);\n",
       "            observer.disconnect();\n",
       "        }}\n",
       "}});\n",
       "\n",
       "// Listen for the removal of the full notebook cells\n",
       "var notebookContainer = gd.closest('#notebook-container');\n",
       "if (notebookContainer) {{\n",
       "    x.observe(notebookContainer, {childList: true});\n",
       "}}\n",
       "\n",
       "// Listen for the clearing of the current output cell\n",
       "var outputEl = gd.closest('.output');\n",
       "if (outputEl) {{\n",
       "    x.observe(outputEl, {childList: true});\n",
       "}}\n",
       "\n",
       "                        })                };                });            </script>        </div>"
      ]
     },
     "metadata": {},
     "output_type": "display_data"
    },
    {
     "data": {
      "application/vnd.plotly.v1+json": {
       "config": {
        "plotlyServerURL": "https://plot.ly"
       },
       "data": [
        {
         "lat": [
          41.8829,
          41.8713,
          41.8721,
          41.8515,
          41.8097,
          41.9033,
          41.8805,
          41.9543,
          41.9229,
          41.8022,
          41.8426,
          41.7257,
          41.9464,
          41.7458,
          41.7411,
          41.775,
          41.9019,
          41.849,
          41.8804,
          41.9703,
          42.0095,
          41.6934,
          41.7781,
          41.9951,
          41.8093,
          41.9463,
          41.776,
          41.7813,
          41.7814,
          41.9202,
          41.9719,
          41.9453,
          41.9008,
          41.6996,
          41.8829,
          42.0086,
          41.9209,
          41.762,
          41.9025,
          41.7454,
          41.8196,
          41.6948,
          41.9972,
          41.9909,
          41.6496
         ],
         "lon": [
          -87.6321,
          -87.6277,
          -87.6578,
          -87.6694,
          -87.6533,
          -87.6336,
          -87.6873,
          -87.6575,
          -87.6483,
          -87.6006,
          -87.6306,
          -87.556,
          -87.7042,
          -87.6054,
          -87.6543,
          -87.6421,
          -87.6779,
          -87.7157,
          -87.7223,
          -87.7042,
          -87.6689,
          -87.6243,
          -87.7069,
          -87.8082,
          -87.7052,
          -87.8061,
          -87.6674,
          -87.6051,
          -87.7705,
          -87.7535,
          -87.6624,
          -87.7474,
          -87.6528,
          -87.6628,
          -87.7582,
          -87.6947,
          -87.7043,
          -87.5703,
          -87.7393,
          -87.7135,
          -87.6126,
          -87.7038,
          -87.7166,
          -87.6629,
          -87.6301
         ],
         "marker": {
          "color": [
           47.7,
           88.3,
           88.3,
           37.285714285714285,
           48.400000000000006,
           84.25,
           44.5,
           66.9,
           81.8,
           58.625,
           34.32,
           45.583333333333336,
           50.1,
           40.13333333333333,
           43.333333333333336,
           41.03333333333333,
           38.760000000000005,
           52.05555555555556,
           54.2,
           73.95,
           61.7,
           45.31666666666666,
           42.65,
           49.15,
           58.58571428571429,
           58.1,
           48.35,
           42.56666666666666,
           72,
           67.22,
           55.1,
           46.9,
           81.625,
           38.2,
           28.35,
           57.7,
           61,
           41.2,
           25.166666666666668,
           45.4,
           56.56,
           67.1,
           68,
           69.2,
           50.8
          ]
         },
         "mode": "markers",
         "text": [
          47.7,
          88.3,
          88.3,
          37.285714285714285,
          48.400000000000006,
          84.25,
          44.5,
          66.9,
          81.8,
          58.625,
          34.32,
          45.583333333333336,
          50.1,
          40.13333333333333,
          43.333333333333336,
          41.03333333333333,
          38.760000000000005,
          52.05555555555556,
          54.2,
          73.95,
          61.7,
          45.31666666666666,
          42.65,
          49.15,
          58.58571428571429,
          58.1,
          48.35,
          42.56666666666666,
          72,
          67.22,
          55.1,
          46.9,
          81.625,
          38.2,
          28.35,
          57.7,
          61,
          41.2,
          25.166666666666668,
          45.4,
          56.56,
          67.1,
          68,
          69.2,
          50.8
         ],
         "type": "scattergeo"
        }
       ],
       "layout": {
        "geo": {
         "scope": "usa"
        },
        "template": {
         "data": {
          "bar": [
           {
            "error_x": {
             "color": "#2a3f5f"
            },
            "error_y": {
             "color": "#2a3f5f"
            },
            "marker": {
             "line": {
              "color": "#E5ECF6",
              "width": 0.5
             },
             "pattern": {
              "fillmode": "overlay",
              "size": 10,
              "solidity": 0.2
             }
            },
            "type": "bar"
           }
          ],
          "barpolar": [
           {
            "marker": {
             "line": {
              "color": "#E5ECF6",
              "width": 0.5
             },
             "pattern": {
              "fillmode": "overlay",
              "size": 10,
              "solidity": 0.2
             }
            },
            "type": "barpolar"
           }
          ],
          "carpet": [
           {
            "aaxis": {
             "endlinecolor": "#2a3f5f",
             "gridcolor": "white",
             "linecolor": "white",
             "minorgridcolor": "white",
             "startlinecolor": "#2a3f5f"
            },
            "baxis": {
             "endlinecolor": "#2a3f5f",
             "gridcolor": "white",
             "linecolor": "white",
             "minorgridcolor": "white",
             "startlinecolor": "#2a3f5f"
            },
            "type": "carpet"
           }
          ],
          "choropleth": [
           {
            "colorbar": {
             "outlinewidth": 0,
             "ticks": ""
            },
            "type": "choropleth"
           }
          ],
          "contour": [
           {
            "colorbar": {
             "outlinewidth": 0,
             "ticks": ""
            },
            "colorscale": [
             [
              0,
              "#0d0887"
             ],
             [
              0.1111111111111111,
              "#46039f"
             ],
             [
              0.2222222222222222,
              "#7201a8"
             ],
             [
              0.3333333333333333,
              "#9c179e"
             ],
             [
              0.4444444444444444,
              "#bd3786"
             ],
             [
              0.5555555555555556,
              "#d8576b"
             ],
             [
              0.6666666666666666,
              "#ed7953"
             ],
             [
              0.7777777777777778,
              "#fb9f3a"
             ],
             [
              0.8888888888888888,
              "#fdca26"
             ],
             [
              1,
              "#f0f921"
             ]
            ],
            "type": "contour"
           }
          ],
          "contourcarpet": [
           {
            "colorbar": {
             "outlinewidth": 0,
             "ticks": ""
            },
            "type": "contourcarpet"
           }
          ],
          "heatmap": [
           {
            "colorbar": {
             "outlinewidth": 0,
             "ticks": ""
            },
            "colorscale": [
             [
              0,
              "#0d0887"
             ],
             [
              0.1111111111111111,
              "#46039f"
             ],
             [
              0.2222222222222222,
              "#7201a8"
             ],
             [
              0.3333333333333333,
              "#9c179e"
             ],
             [
              0.4444444444444444,
              "#bd3786"
             ],
             [
              0.5555555555555556,
              "#d8576b"
             ],
             [
              0.6666666666666666,
              "#ed7953"
             ],
             [
              0.7777777777777778,
              "#fb9f3a"
             ],
             [
              0.8888888888888888,
              "#fdca26"
             ],
             [
              1,
              "#f0f921"
             ]
            ],
            "type": "heatmap"
           }
          ],
          "heatmapgl": [
           {
            "colorbar": {
             "outlinewidth": 0,
             "ticks": ""
            },
            "colorscale": [
             [
              0,
              "#0d0887"
             ],
             [
              0.1111111111111111,
              "#46039f"
             ],
             [
              0.2222222222222222,
              "#7201a8"
             ],
             [
              0.3333333333333333,
              "#9c179e"
             ],
             [
              0.4444444444444444,
              "#bd3786"
             ],
             [
              0.5555555555555556,
              "#d8576b"
             ],
             [
              0.6666666666666666,
              "#ed7953"
             ],
             [
              0.7777777777777778,
              "#fb9f3a"
             ],
             [
              0.8888888888888888,
              "#fdca26"
             ],
             [
              1,
              "#f0f921"
             ]
            ],
            "type": "heatmapgl"
           }
          ],
          "histogram": [
           {
            "marker": {
             "pattern": {
              "fillmode": "overlay",
              "size": 10,
              "solidity": 0.2
             }
            },
            "type": "histogram"
           }
          ],
          "histogram2d": [
           {
            "colorbar": {
             "outlinewidth": 0,
             "ticks": ""
            },
            "colorscale": [
             [
              0,
              "#0d0887"
             ],
             [
              0.1111111111111111,
              "#46039f"
             ],
             [
              0.2222222222222222,
              "#7201a8"
             ],
             [
              0.3333333333333333,
              "#9c179e"
             ],
             [
              0.4444444444444444,
              "#bd3786"
             ],
             [
              0.5555555555555556,
              "#d8576b"
             ],
             [
              0.6666666666666666,
              "#ed7953"
             ],
             [
              0.7777777777777778,
              "#fb9f3a"
             ],
             [
              0.8888888888888888,
              "#fdca26"
             ],
             [
              1,
              "#f0f921"
             ]
            ],
            "type": "histogram2d"
           }
          ],
          "histogram2dcontour": [
           {
            "colorbar": {
             "outlinewidth": 0,
             "ticks": ""
            },
            "colorscale": [
             [
              0,
              "#0d0887"
             ],
             [
              0.1111111111111111,
              "#46039f"
             ],
             [
              0.2222222222222222,
              "#7201a8"
             ],
             [
              0.3333333333333333,
              "#9c179e"
             ],
             [
              0.4444444444444444,
              "#bd3786"
             ],
             [
              0.5555555555555556,
              "#d8576b"
             ],
             [
              0.6666666666666666,
              "#ed7953"
             ],
             [
              0.7777777777777778,
              "#fb9f3a"
             ],
             [
              0.8888888888888888,
              "#fdca26"
             ],
             [
              1,
              "#f0f921"
             ]
            ],
            "type": "histogram2dcontour"
           }
          ],
          "mesh3d": [
           {
            "colorbar": {
             "outlinewidth": 0,
             "ticks": ""
            },
            "type": "mesh3d"
           }
          ],
          "parcoords": [
           {
            "line": {
             "colorbar": {
              "outlinewidth": 0,
              "ticks": ""
             }
            },
            "type": "parcoords"
           }
          ],
          "pie": [
           {
            "automargin": true,
            "type": "pie"
           }
          ],
          "scatter": [
           {
            "fillpattern": {
             "fillmode": "overlay",
             "size": 10,
             "solidity": 0.2
            },
            "type": "scatter"
           }
          ],
          "scatter3d": [
           {
            "line": {
             "colorbar": {
              "outlinewidth": 0,
              "ticks": ""
             }
            },
            "marker": {
             "colorbar": {
              "outlinewidth": 0,
              "ticks": ""
             }
            },
            "type": "scatter3d"
           }
          ],
          "scattercarpet": [
           {
            "marker": {
             "colorbar": {
              "outlinewidth": 0,
              "ticks": ""
             }
            },
            "type": "scattercarpet"
           }
          ],
          "scattergeo": [
           {
            "marker": {
             "colorbar": {
              "outlinewidth": 0,
              "ticks": ""
             }
            },
            "type": "scattergeo"
           }
          ],
          "scattergl": [
           {
            "marker": {
             "colorbar": {
              "outlinewidth": 0,
              "ticks": ""
             }
            },
            "type": "scattergl"
           }
          ],
          "scattermapbox": [
           {
            "marker": {
             "colorbar": {
              "outlinewidth": 0,
              "ticks": ""
             }
            },
            "type": "scattermapbox"
           }
          ],
          "scatterpolar": [
           {
            "marker": {
             "colorbar": {
              "outlinewidth": 0,
              "ticks": ""
             }
            },
            "type": "scatterpolar"
           }
          ],
          "scatterpolargl": [
           {
            "marker": {
             "colorbar": {
              "outlinewidth": 0,
              "ticks": ""
             }
            },
            "type": "scatterpolargl"
           }
          ],
          "scatterternary": [
           {
            "marker": {
             "colorbar": {
              "outlinewidth": 0,
              "ticks": ""
             }
            },
            "type": "scatterternary"
           }
          ],
          "surface": [
           {
            "colorbar": {
             "outlinewidth": 0,
             "ticks": ""
            },
            "colorscale": [
             [
              0,
              "#0d0887"
             ],
             [
              0.1111111111111111,
              "#46039f"
             ],
             [
              0.2222222222222222,
              "#7201a8"
             ],
             [
              0.3333333333333333,
              "#9c179e"
             ],
             [
              0.4444444444444444,
              "#bd3786"
             ],
             [
              0.5555555555555556,
              "#d8576b"
             ],
             [
              0.6666666666666666,
              "#ed7953"
             ],
             [
              0.7777777777777778,
              "#fb9f3a"
             ],
             [
              0.8888888888888888,
              "#fdca26"
             ],
             [
              1,
              "#f0f921"
             ]
            ],
            "type": "surface"
           }
          ],
          "table": [
           {
            "cells": {
             "fill": {
              "color": "#EBF0F8"
             },
             "line": {
              "color": "white"
             }
            },
            "header": {
             "fill": {
              "color": "#C8D4E3"
             },
             "line": {
              "color": "white"
             }
            },
            "type": "table"
           }
          ]
         },
         "layout": {
          "annotationdefaults": {
           "arrowcolor": "#2a3f5f",
           "arrowhead": 0,
           "arrowwidth": 1
          },
          "autotypenumbers": "strict",
          "coloraxis": {
           "colorbar": {
            "outlinewidth": 0,
            "ticks": ""
           }
          },
          "colorscale": {
           "diverging": [
            [
             0,
             "#8e0152"
            ],
            [
             0.1,
             "#c51b7d"
            ],
            [
             0.2,
             "#de77ae"
            ],
            [
             0.3,
             "#f1b6da"
            ],
            [
             0.4,
             "#fde0ef"
            ],
            [
             0.5,
             "#f7f7f7"
            ],
            [
             0.6,
             "#e6f5d0"
            ],
            [
             0.7,
             "#b8e186"
            ],
            [
             0.8,
             "#7fbc41"
            ],
            [
             0.9,
             "#4d9221"
            ],
            [
             1,
             "#276419"
            ]
           ],
           "sequential": [
            [
             0,
             "#0d0887"
            ],
            [
             0.1111111111111111,
             "#46039f"
            ],
            [
             0.2222222222222222,
             "#7201a8"
            ],
            [
             0.3333333333333333,
             "#9c179e"
            ],
            [
             0.4444444444444444,
             "#bd3786"
            ],
            [
             0.5555555555555556,
             "#d8576b"
            ],
            [
             0.6666666666666666,
             "#ed7953"
            ],
            [
             0.7777777777777778,
             "#fb9f3a"
            ],
            [
             0.8888888888888888,
             "#fdca26"
            ],
            [
             1,
             "#f0f921"
            ]
           ],
           "sequentialminus": [
            [
             0,
             "#0d0887"
            ],
            [
             0.1111111111111111,
             "#46039f"
            ],
            [
             0.2222222222222222,
             "#7201a8"
            ],
            [
             0.3333333333333333,
             "#9c179e"
            ],
            [
             0.4444444444444444,
             "#bd3786"
            ],
            [
             0.5555555555555556,
             "#d8576b"
            ],
            [
             0.6666666666666666,
             "#ed7953"
            ],
            [
             0.7777777777777778,
             "#fb9f3a"
            ],
            [
             0.8888888888888888,
             "#fdca26"
            ],
            [
             1,
             "#f0f921"
            ]
           ]
          },
          "colorway": [
           "#636efa",
           "#EF553B",
           "#00cc96",
           "#ab63fa",
           "#FFA15A",
           "#19d3f3",
           "#FF6692",
           "#B6E880",
           "#FF97FF",
           "#FECB52"
          ],
          "font": {
           "color": "#2a3f5f"
          },
          "geo": {
           "bgcolor": "white",
           "lakecolor": "white",
           "landcolor": "#E5ECF6",
           "showlakes": true,
           "showland": true,
           "subunitcolor": "white"
          },
          "hoverlabel": {
           "align": "left"
          },
          "hovermode": "closest",
          "mapbox": {
           "style": "light"
          },
          "paper_bgcolor": "white",
          "plot_bgcolor": "#E5ECF6",
          "polar": {
           "angularaxis": {
            "gridcolor": "white",
            "linecolor": "white",
            "ticks": ""
           },
           "bgcolor": "#E5ECF6",
           "radialaxis": {
            "gridcolor": "white",
            "linecolor": "white",
            "ticks": ""
           }
          },
          "scene": {
           "xaxis": {
            "backgroundcolor": "#E5ECF6",
            "gridcolor": "white",
            "gridwidth": 2,
            "linecolor": "white",
            "showbackground": true,
            "ticks": "",
            "zerolinecolor": "white"
           },
           "yaxis": {
            "backgroundcolor": "#E5ECF6",
            "gridcolor": "white",
            "gridwidth": 2,
            "linecolor": "white",
            "showbackground": true,
            "ticks": "",
            "zerolinecolor": "white"
           },
           "zaxis": {
            "backgroundcolor": "#E5ECF6",
            "gridcolor": "white",
            "gridwidth": 2,
            "linecolor": "white",
            "showbackground": true,
            "ticks": "",
            "zerolinecolor": "white"
           }
          },
          "shapedefaults": {
           "line": {
            "color": "#2a3f5f"
           }
          },
          "ternary": {
           "aaxis": {
            "gridcolor": "white",
            "linecolor": "white",
            "ticks": ""
           },
           "baxis": {
            "gridcolor": "white",
            "linecolor": "white",
            "ticks": ""
           },
           "bgcolor": "#E5ECF6",
           "caxis": {
            "gridcolor": "white",
            "linecolor": "white",
            "ticks": ""
           }
          },
          "title": {
           "x": 0.05
          },
          "xaxis": {
           "automargin": true,
           "gridcolor": "white",
           "linecolor": "white",
           "ticks": "",
           "title": {
            "standoff": 15
           },
           "zerolinecolor": "white",
           "zerolinewidth": 2
          },
          "yaxis": {
           "automargin": true,
           "gridcolor": "white",
           "linecolor": "white",
           "ticks": "",
           "title": {
            "standoff": 15
           },
           "zerolinecolor": "white",
           "zerolinewidth": 2
          }
         }
        },
        "title": {
         "text": "College Enrollment Rate by Zip"
        }
       }
      },
      "text/html": [
       "<div>                            <div id=\"ce80600f-3f04-4835-a9d7-97f8854a17ae\" class=\"plotly-graph-div\" style=\"height:525px; width:100%;\"></div>            <script type=\"text/javascript\">                require([\"plotly\"], function(Plotly) {                    window.PLOTLYENV=window.PLOTLYENV || {};                                    if (document.getElementById(\"ce80600f-3f04-4835-a9d7-97f8854a17ae\")) {                    Plotly.newPlot(                        \"ce80600f-3f04-4835-a9d7-97f8854a17ae\",                        [{\"lat\":[41.8829,41.8713,41.8721,41.8515,41.8097,41.9033,41.8805,41.9543,41.9229,41.8022,41.8426,41.7257,41.9464,41.7458,41.7411,41.775,41.9019,41.849,41.8804,41.9703,42.0095,41.6934,41.7781,41.9951,41.8093,41.9463,41.776,41.7813,41.7814,41.9202,41.9719,41.9453,41.9008,41.6996,41.8829,42.0086,41.9209,41.762,41.9025,41.7454,41.8196,41.6948,41.9972,41.9909,41.6496],\"lon\":[-87.6321,-87.6277,-87.6578,-87.6694,-87.6533,-87.6336,-87.6873,-87.6575,-87.6483,-87.6006,-87.6306,-87.556,-87.7042,-87.6054,-87.6543,-87.6421,-87.6779,-87.7157,-87.7223,-87.7042,-87.6689,-87.6243,-87.7069,-87.8082,-87.7052,-87.8061,-87.6674,-87.6051,-87.7705,-87.7535,-87.6624,-87.7474,-87.6528,-87.6628,-87.7582,-87.6947,-87.7043,-87.5703,-87.7393,-87.7135,-87.6126,-87.7038,-87.7166,-87.6629,-87.6301],\"marker\":{\"color\":[47.7,88.3,88.3,37.285714285714285,48.400000000000006,84.25,44.5,66.9,81.8,58.625,34.32,45.583333333333336,50.1,40.13333333333333,43.333333333333336,41.03333333333333,38.760000000000005,52.05555555555556,54.2,73.95,61.7,45.31666666666666,42.65,49.15,58.58571428571429,58.1,48.35,42.56666666666666,72.0,67.22,55.1,46.9,81.625,38.2,28.35,57.7,61.0,41.2,25.166666666666668,45.4,56.56,67.1,68.0,69.2,50.8]},\"mode\":\"markers\",\"text\":[47.7,88.3,88.3,37.285714285714285,48.400000000000006,84.25,44.5,66.9,81.8,58.625,34.32,45.583333333333336,50.1,40.13333333333333,43.333333333333336,41.03333333333333,38.760000000000005,52.05555555555556,54.2,73.95,61.7,45.31666666666666,42.65,49.15,58.58571428571429,58.1,48.35,42.56666666666666,72.0,67.22,55.1,46.9,81.625,38.2,28.35,57.7,61.0,41.2,25.166666666666668,45.4,56.56,67.1,68.0,69.2,50.8],\"type\":\"scattergeo\"}],                        {\"template\":{\"data\":{\"histogram2dcontour\":[{\"type\":\"histogram2dcontour\",\"colorbar\":{\"outlinewidth\":0,\"ticks\":\"\"},\"colorscale\":[[0.0,\"#0d0887\"],[0.1111111111111111,\"#46039f\"],[0.2222222222222222,\"#7201a8\"],[0.3333333333333333,\"#9c179e\"],[0.4444444444444444,\"#bd3786\"],[0.5555555555555556,\"#d8576b\"],[0.6666666666666666,\"#ed7953\"],[0.7777777777777778,\"#fb9f3a\"],[0.8888888888888888,\"#fdca26\"],[1.0,\"#f0f921\"]]}],\"choropleth\":[{\"type\":\"choropleth\",\"colorbar\":{\"outlinewidth\":0,\"ticks\":\"\"}}],\"histogram2d\":[{\"type\":\"histogram2d\",\"colorbar\":{\"outlinewidth\":0,\"ticks\":\"\"},\"colorscale\":[[0.0,\"#0d0887\"],[0.1111111111111111,\"#46039f\"],[0.2222222222222222,\"#7201a8\"],[0.3333333333333333,\"#9c179e\"],[0.4444444444444444,\"#bd3786\"],[0.5555555555555556,\"#d8576b\"],[0.6666666666666666,\"#ed7953\"],[0.7777777777777778,\"#fb9f3a\"],[0.8888888888888888,\"#fdca26\"],[1.0,\"#f0f921\"]]}],\"heatmap\":[{\"type\":\"heatmap\",\"colorbar\":{\"outlinewidth\":0,\"ticks\":\"\"},\"colorscale\":[[0.0,\"#0d0887\"],[0.1111111111111111,\"#46039f\"],[0.2222222222222222,\"#7201a8\"],[0.3333333333333333,\"#9c179e\"],[0.4444444444444444,\"#bd3786\"],[0.5555555555555556,\"#d8576b\"],[0.6666666666666666,\"#ed7953\"],[0.7777777777777778,\"#fb9f3a\"],[0.8888888888888888,\"#fdca26\"],[1.0,\"#f0f921\"]]}],\"heatmapgl\":[{\"type\":\"heatmapgl\",\"colorbar\":{\"outlinewidth\":0,\"ticks\":\"\"},\"colorscale\":[[0.0,\"#0d0887\"],[0.1111111111111111,\"#46039f\"],[0.2222222222222222,\"#7201a8\"],[0.3333333333333333,\"#9c179e\"],[0.4444444444444444,\"#bd3786\"],[0.5555555555555556,\"#d8576b\"],[0.6666666666666666,\"#ed7953\"],[0.7777777777777778,\"#fb9f3a\"],[0.8888888888888888,\"#fdca26\"],[1.0,\"#f0f921\"]]}],\"contourcarpet\":[{\"type\":\"contourcarpet\",\"colorbar\":{\"outlinewidth\":0,\"ticks\":\"\"}}],\"contour\":[{\"type\":\"contour\",\"colorbar\":{\"outlinewidth\":0,\"ticks\":\"\"},\"colorscale\":[[0.0,\"#0d0887\"],[0.1111111111111111,\"#46039f\"],[0.2222222222222222,\"#7201a8\"],[0.3333333333333333,\"#9c179e\"],[0.4444444444444444,\"#bd3786\"],[0.5555555555555556,\"#d8576b\"],[0.6666666666666666,\"#ed7953\"],[0.7777777777777778,\"#fb9f3a\"],[0.8888888888888888,\"#fdca26\"],[1.0,\"#f0f921\"]]}],\"surface\":[{\"type\":\"surface\",\"colorbar\":{\"outlinewidth\":0,\"ticks\":\"\"},\"colorscale\":[[0.0,\"#0d0887\"],[0.1111111111111111,\"#46039f\"],[0.2222222222222222,\"#7201a8\"],[0.3333333333333333,\"#9c179e\"],[0.4444444444444444,\"#bd3786\"],[0.5555555555555556,\"#d8576b\"],[0.6666666666666666,\"#ed7953\"],[0.7777777777777778,\"#fb9f3a\"],[0.8888888888888888,\"#fdca26\"],[1.0,\"#f0f921\"]]}],\"mesh3d\":[{\"type\":\"mesh3d\",\"colorbar\":{\"outlinewidth\":0,\"ticks\":\"\"}}],\"scatter\":[{\"fillpattern\":{\"fillmode\":\"overlay\",\"size\":10,\"solidity\":0.2},\"type\":\"scatter\"}],\"parcoords\":[{\"type\":\"parcoords\",\"line\":{\"colorbar\":{\"outlinewidth\":0,\"ticks\":\"\"}}}],\"scatterpolargl\":[{\"type\":\"scatterpolargl\",\"marker\":{\"colorbar\":{\"outlinewidth\":0,\"ticks\":\"\"}}}],\"bar\":[{\"error_x\":{\"color\":\"#2a3f5f\"},\"error_y\":{\"color\":\"#2a3f5f\"},\"marker\":{\"line\":{\"color\":\"#E5ECF6\",\"width\":0.5},\"pattern\":{\"fillmode\":\"overlay\",\"size\":10,\"solidity\":0.2}},\"type\":\"bar\"}],\"scattergeo\":[{\"type\":\"scattergeo\",\"marker\":{\"colorbar\":{\"outlinewidth\":0,\"ticks\":\"\"}}}],\"scatterpolar\":[{\"type\":\"scatterpolar\",\"marker\":{\"colorbar\":{\"outlinewidth\":0,\"ticks\":\"\"}}}],\"histogram\":[{\"marker\":{\"pattern\":{\"fillmode\":\"overlay\",\"size\":10,\"solidity\":0.2}},\"type\":\"histogram\"}],\"scattergl\":[{\"type\":\"scattergl\",\"marker\":{\"colorbar\":{\"outlinewidth\":0,\"ticks\":\"\"}}}],\"scatter3d\":[{\"type\":\"scatter3d\",\"line\":{\"colorbar\":{\"outlinewidth\":0,\"ticks\":\"\"}},\"marker\":{\"colorbar\":{\"outlinewidth\":0,\"ticks\":\"\"}}}],\"scattermapbox\":[{\"type\":\"scattermapbox\",\"marker\":{\"colorbar\":{\"outlinewidth\":0,\"ticks\":\"\"}}}],\"scatterternary\":[{\"type\":\"scatterternary\",\"marker\":{\"colorbar\":{\"outlinewidth\":0,\"ticks\":\"\"}}}],\"scattercarpet\":[{\"type\":\"scattercarpet\",\"marker\":{\"colorbar\":{\"outlinewidth\":0,\"ticks\":\"\"}}}],\"carpet\":[{\"aaxis\":{\"endlinecolor\":\"#2a3f5f\",\"gridcolor\":\"white\",\"linecolor\":\"white\",\"minorgridcolor\":\"white\",\"startlinecolor\":\"#2a3f5f\"},\"baxis\":{\"endlinecolor\":\"#2a3f5f\",\"gridcolor\":\"white\",\"linecolor\":\"white\",\"minorgridcolor\":\"white\",\"startlinecolor\":\"#2a3f5f\"},\"type\":\"carpet\"}],\"table\":[{\"cells\":{\"fill\":{\"color\":\"#EBF0F8\"},\"line\":{\"color\":\"white\"}},\"header\":{\"fill\":{\"color\":\"#C8D4E3\"},\"line\":{\"color\":\"white\"}},\"type\":\"table\"}],\"barpolar\":[{\"marker\":{\"line\":{\"color\":\"#E5ECF6\",\"width\":0.5},\"pattern\":{\"fillmode\":\"overlay\",\"size\":10,\"solidity\":0.2}},\"type\":\"barpolar\"}],\"pie\":[{\"automargin\":true,\"type\":\"pie\"}]},\"layout\":{\"autotypenumbers\":\"strict\",\"colorway\":[\"#636efa\",\"#EF553B\",\"#00cc96\",\"#ab63fa\",\"#FFA15A\",\"#19d3f3\",\"#FF6692\",\"#B6E880\",\"#FF97FF\",\"#FECB52\"],\"font\":{\"color\":\"#2a3f5f\"},\"hovermode\":\"closest\",\"hoverlabel\":{\"align\":\"left\"},\"paper_bgcolor\":\"white\",\"plot_bgcolor\":\"#E5ECF6\",\"polar\":{\"bgcolor\":\"#E5ECF6\",\"angularaxis\":{\"gridcolor\":\"white\",\"linecolor\":\"white\",\"ticks\":\"\"},\"radialaxis\":{\"gridcolor\":\"white\",\"linecolor\":\"white\",\"ticks\":\"\"}},\"ternary\":{\"bgcolor\":\"#E5ECF6\",\"aaxis\":{\"gridcolor\":\"white\",\"linecolor\":\"white\",\"ticks\":\"\"},\"baxis\":{\"gridcolor\":\"white\",\"linecolor\":\"white\",\"ticks\":\"\"},\"caxis\":{\"gridcolor\":\"white\",\"linecolor\":\"white\",\"ticks\":\"\"}},\"coloraxis\":{\"colorbar\":{\"outlinewidth\":0,\"ticks\":\"\"}},\"colorscale\":{\"sequential\":[[0.0,\"#0d0887\"],[0.1111111111111111,\"#46039f\"],[0.2222222222222222,\"#7201a8\"],[0.3333333333333333,\"#9c179e\"],[0.4444444444444444,\"#bd3786\"],[0.5555555555555556,\"#d8576b\"],[0.6666666666666666,\"#ed7953\"],[0.7777777777777778,\"#fb9f3a\"],[0.8888888888888888,\"#fdca26\"],[1.0,\"#f0f921\"]],\"sequentialminus\":[[0.0,\"#0d0887\"],[0.1111111111111111,\"#46039f\"],[0.2222222222222222,\"#7201a8\"],[0.3333333333333333,\"#9c179e\"],[0.4444444444444444,\"#bd3786\"],[0.5555555555555556,\"#d8576b\"],[0.6666666666666666,\"#ed7953\"],[0.7777777777777778,\"#fb9f3a\"],[0.8888888888888888,\"#fdca26\"],[1.0,\"#f0f921\"]],\"diverging\":[[0,\"#8e0152\"],[0.1,\"#c51b7d\"],[0.2,\"#de77ae\"],[0.3,\"#f1b6da\"],[0.4,\"#fde0ef\"],[0.5,\"#f7f7f7\"],[0.6,\"#e6f5d0\"],[0.7,\"#b8e186\"],[0.8,\"#7fbc41\"],[0.9,\"#4d9221\"],[1,\"#276419\"]]},\"xaxis\":{\"gridcolor\":\"white\",\"linecolor\":\"white\",\"ticks\":\"\",\"title\":{\"standoff\":15},\"zerolinecolor\":\"white\",\"automargin\":true,\"zerolinewidth\":2},\"yaxis\":{\"gridcolor\":\"white\",\"linecolor\":\"white\",\"ticks\":\"\",\"title\":{\"standoff\":15},\"zerolinecolor\":\"white\",\"automargin\":true,\"zerolinewidth\":2},\"scene\":{\"xaxis\":{\"backgroundcolor\":\"#E5ECF6\",\"gridcolor\":\"white\",\"linecolor\":\"white\",\"showbackground\":true,\"ticks\":\"\",\"zerolinecolor\":\"white\",\"gridwidth\":2},\"yaxis\":{\"backgroundcolor\":\"#E5ECF6\",\"gridcolor\":\"white\",\"linecolor\":\"white\",\"showbackground\":true,\"ticks\":\"\",\"zerolinecolor\":\"white\",\"gridwidth\":2},\"zaxis\":{\"backgroundcolor\":\"#E5ECF6\",\"gridcolor\":\"white\",\"linecolor\":\"white\",\"showbackground\":true,\"ticks\":\"\",\"zerolinecolor\":\"white\",\"gridwidth\":2}},\"shapedefaults\":{\"line\":{\"color\":\"#2a3f5f\"}},\"annotationdefaults\":{\"arrowcolor\":\"#2a3f5f\",\"arrowhead\":0,\"arrowwidth\":1},\"geo\":{\"bgcolor\":\"white\",\"landcolor\":\"#E5ECF6\",\"subunitcolor\":\"white\",\"showland\":true,\"showlakes\":true,\"lakecolor\":\"white\"},\"title\":{\"x\":0.05},\"mapbox\":{\"style\":\"light\"}}},\"geo\":{\"scope\":\"usa\"},\"title\":{\"text\":\"College Enrollment Rate by Zip\"}},                        {\"responsive\": true}                    ).then(function(){\n",
       "                            \n",
       "var gd = document.getElementById('ce80600f-3f04-4835-a9d7-97f8854a17ae');\n",
       "var x = new MutationObserver(function (mutations, observer) {{\n",
       "        var display = window.getComputedStyle(gd).display;\n",
       "        if (!display || display === 'none') {{\n",
       "            console.log([gd, 'removed!']);\n",
       "            Plotly.purge(gd);\n",
       "            observer.disconnect();\n",
       "        }}\n",
       "}});\n",
       "\n",
       "// Listen for the removal of the full notebook cells\n",
       "var notebookContainer = gd.closest('#notebook-container');\n",
       "if (notebookContainer) {{\n",
       "    x.observe(notebookContainer, {childList: true});\n",
       "}}\n",
       "\n",
       "// Listen for the clearing of the current output cell\n",
       "var outputEl = gd.closest('.output');\n",
       "if (outputEl) {{\n",
       "    x.observe(outputEl, {childList: true});\n",
       "}}\n",
       "\n",
       "                        })                };                });            </script>        </div>"
      ]
     },
     "metadata": {},
     "output_type": "display_data"
    }
   ],
   "source": [
    "import pandas as pd\n",
    "import pandas_bokeh\n",
    "import matplotlib.pyplot as plt\n",
    "import pgeocode\n",
    "import geopandas as gpd\n",
    "from shapely.geometry import Point\n",
    "from geopandas import GeoDataFrame\n",
    "pandas_bokeh.output_notebook()\n",
    "import plotly.graph_objects as go\n",
    "\n",
    "nomi = pgeocode.Nominatim('us')\n",
    "\n",
    "edf = grouped_mean\n",
    "edf['Latitude'] = (nomi.query_postal_code(edf['Zip'].astype('str').tolist()).latitude)\n",
    "edf['Longitude'] = (nomi.query_postal_code(edf['Zip'].astype('str').tolist()).longitude)\n",
    "\n",
    "fig = go.Figure(data=go.Scattergeo(\n",
    "        lon = edf['Longitude'],\n",
    "        lat = edf['Latitude'],\n",
    "        text = edf['College_Enrollment_Rate_School'],\n",
    "        mode = 'markers',\n",
    "        marker_color = edf['College_Enrollment_Rate_School'],\n",
    "        ))\n",
    "\n",
    "fig.update_layout(\n",
    "        title = 'College Enrollment Rate by Zip',\n",
    "        geo_scope='usa',\n",
    "    )\n",
    "fig.show()"
   ]
  },
  {
   "cell_type": "markdown",
   "id": "83f9c3ae",
   "metadata": {},
   "source": [
    "On the map, each dot represents a zip code and the ligher the color of the dot, the better the average college enrollment rate in that zip code. We can see that most of the light yellow and orange dots, representing the schools with higher college enrollment rate, are concentarted around the coastal area of North Chicago. \n",
    "It is also interesting that the west side of South Chicago seems to be doing a bit better than the other parts in South Chicago. And the two schools with lowest college enrollment rates are actually located in North Chicago. "
   ]
  },
  {
   "cell_type": "markdown",
   "id": "fe90ee0b",
   "metadata": {},
   "source": [
    "# 4. Summary\n",
    "* In this project we tried to analyze the relationship between student demographics, the location of the school, and the student performance(measured by college enrollment rate). My hypothesis was that the school's college enrollment rate is affected by the schools's student demographic, but I was unsure if there's relationship between the schools's college enrollment rate and their address or if there's correlation between the location and the student body. I created a new data file with the cleaned and transformed data, then used visualization such as boxplot, scatterplot,and correlation to analyze.\n",
    "\n",
    "* There are some difficulties with the data due to the lack of useful information in the data such as overall rating. Also I had problem analyzing the geographical relationship without using visualization because I am not familiar with the methods. Also there's limitation of the data because college enrollment rate does not necessarily equate to student performance since there are many other factors that decide if a student is pursuing higher education or not. Also using college enrollment rate as the metric make the data less inclusive.\n",
    "\n",
    "* The conclusion is that there's seems to be a relationship between student demographics and the high school's college enrollment rate, and a relationship can also be observed between the geographical location of the school and the college enrollment rate.\n",
    "\n",
    "* The research can be further developed if we have data of the overall rating, then we can include kindergartens, elementary schools, and junior highs into consideration. It would also be great if we can categorize the zip codes then use it in correlation analysis. "
   ]
  },
  {
   "cell_type": "code",
   "execution_count": null,
   "id": "a8dbc649",
   "metadata": {},
   "outputs": [],
   "source": []
  }
 ],
 "metadata": {
  "kernelspec": {
   "display_name": "Python 3 (ipykernel)",
   "language": "python",
   "name": "python3"
  },
  "language_info": {
   "codemirror_mode": {
    "name": "ipython",
    "version": 3
   },
   "file_extension": ".py",
   "mimetype": "text/x-python",
   "name": "python",
   "nbconvert_exporter": "python",
   "pygments_lexer": "ipython3",
   "version": "3.11.4"
  }
 },
 "nbformat": 4,
 "nbformat_minor": 5
}
